{
 "cells": [
  {
   "cell_type": "code",
   "execution_count": 1,
   "id": "7613f503",
   "metadata": {},
   "outputs": [
    {
     "name": "stdout",
     "output_type": "stream",
     "text": [
      "enter value of profit?56\n",
      "enter value of rate?46\n",
      "enter value of time?45\n",
      "1159.2\n"
     ]
    }
   ],
   "source": [
    "profit=int(input(\"enter value of profit?\"))\n",
    "rate=int(input(\"enter value of rate?\"))\n",
    "time=int(input(\"enter value of time?\"))\n",
    "simpleinterest=(profit*rate*time)/100\n",
    "print(simpleinterest)"
   ]
  },
  {
   "cell_type": "code",
   "execution_count": 3,
   "id": "e839413e",
   "metadata": {},
   "outputs": [
    {
     "name": "stdout",
     "output_type": "stream",
     "text": [
      "enter value2\n",
      "enter b value3\n"
     ]
    },
    {
     "data": {
      "text/plain": [
       "5"
      ]
     },
     "execution_count": 3,
     "metadata": {},
     "output_type": "execute_result"
    }
   ],
   "source": [
    "a=int(input(\"enter value\"))\n",
    "b=int(input(\"enter b value\"))\n",
    "a+b"
   ]
  },
  {
   "cell_type": "code",
   "execution_count": 3,
   "id": "6cc9f8df",
   "metadata": {},
   "outputs": [
    {
     "name": "stdout",
     "output_type": "stream",
     "text": [
      "1941259577936\n"
     ]
    },
    {
     "data": {
      "text/plain": [
       "1941259577936"
      ]
     },
     "execution_count": 3,
     "metadata": {},
     "output_type": "execute_result"
    }
   ],
   "source": [
    "a=10\n",
    "print(id(a))\n",
    "b=10\n",
    "id(b)"
   ]
  },
  {
   "cell_type": "code",
   "execution_count": 4,
   "id": "f5427c0b",
   "metadata": {},
   "outputs": [
    {
     "name": "stdout",
     "output_type": "stream",
     "text": [
      "77\n"
     ]
    },
    {
     "data": {
      "text/plain": [
       "25.0"
      ]
     },
     "execution_count": 4,
     "metadata": {},
     "output_type": "execute_result"
    }
   ],
   "source": [
    "f=int(input())\n",
    "c=(f-32)*5/9\n",
    "c"
   ]
  },
  {
   "cell_type": "code",
   "execution_count": 5,
   "id": "e8185f3b",
   "metadata": {},
   "outputs": [
    {
     "name": "stdout",
     "output_type": "stream",
     "text": [
      "x>y is True\n"
     ]
    }
   ],
   "source": [
    "x=10\n",
    "y=5\n",
    "print(\"x>y is\",x>y)"
   ]
  },
  {
   "cell_type": "code",
   "execution_count": 6,
   "id": "1636e63e",
   "metadata": {},
   "outputs": [
    {
     "name": "stdout",
     "output_type": "stream",
     "text": [
      "False\n",
      "x or y is True\n",
      "not x is False\n"
     ]
    }
   ],
   "source": [
    "x=True\n",
    "y=False\n",
    "print(x and y)\n",
    "print(\"x or y is\",x or y)\n",
    "print(\"not x is\", not x)"
   ]
  },
  {
   "cell_type": "markdown",
   "id": "77118ee6",
   "metadata": {},
   "source": [
    "### using logical operators"
   ]
  },
  {
   "cell_type": "code",
   "execution_count": 8,
   "id": "6e95cc45",
   "metadata": {},
   "outputs": [
    {
     "name": "stdout",
     "output_type": "stream",
     "text": [
      "8\n",
      "9\n",
      " a and b are not greater\n"
     ]
    }
   ],
   "source": [
    "a=int(input())\n",
    "b=int(input())\n",
    "if a>10 and b>10:\n",
    "    print(\"a and b are greater\")\n",
    "else:\n",
    "    print(\" a and b are not greater\")"
   ]
  },
  {
   "cell_type": "markdown",
   "id": "cf5b3ce6",
   "metadata": {},
   "source": [
    "### which is greater number among three numbers\n"
   ]
  },
  {
   "cell_type": "code",
   "execution_count": 9,
   "id": "f674bf04",
   "metadata": {},
   "outputs": [
    {
     "name": "stdout",
     "output_type": "stream",
     "text": [
      "9\n",
      "0\n",
      "8\n",
      "a is greater\n"
     ]
    }
   ],
   "source": [
    "a=int(input())\n",
    "b=int(input())\n",
    "c=int(input())\n",
    "if a>=b and a>=c:\n",
    "    print(\"a is greater\")\n",
    "elif b>=c and b>=a:\n",
    "    print(\"b is greater\")\n",
    "else:\n",
    "    print(\"c is greater\")"
   ]
  },
  {
   "cell_type": "markdown",
   "id": "3718185a",
   "metadata": {},
   "source": [
    "### nested if"
   ]
  },
  {
   "cell_type": "code",
   "execution_count": 10,
   "id": "d5be036b",
   "metadata": {},
   "outputs": [
    {
     "name": "stdout",
     "output_type": "stream",
     "text": [
      "8\n",
      "n is even\n"
     ]
    }
   ],
   "source": [
    "n=int(input())\n",
    "if n%2==0:\n",
    "    print(\"n is even\")\n",
    "    if n==0:\n",
    "        print(\"n is zero\")\n",
    "else:\n",
    "    print(\"n is odd\")\n"
   ]
  },
  {
   "cell_type": "code",
   "execution_count": 12,
   "id": "9b8c7c8f",
   "metadata": {},
   "outputs": [
    {
     "name": "stdout",
     "output_type": "stream",
     "text": [
      "8\n",
      "9\n",
      "n is even\n",
      "j\n"
     ]
    }
   ],
   "source": [
    "n=int(input())\n",
    "m=int(input())\n",
    "if n%2==0:\n",
    "    print(\"n is even\")\n",
    "    if m%2==0:\n",
    "        print(\"i\")\n",
    "    else:\n",
    "        print(\"j\")\n",
    "else:\n",
    "    print(\"k\")"
   ]
  },
  {
   "cell_type": "markdown",
   "id": "d182a1c7",
   "metadata": {},
   "source": [
    "### problem statement:given an integer n,find sum of first n natural numbers"
   ]
  },
  {
   "cell_type": "code",
   "execution_count": 14,
   "id": "bb1472cf",
   "metadata": {},
   "outputs": [
    {
     "name": "stdout",
     "output_type": "stream",
     "text": [
      "9\n",
      "45\n"
     ]
    }
   ],
   "source": [
    "n=int(input())\n",
    "sum=0\n",
    "i=1\n",
    "while i<=n:\n",
    "    sum=sum+i\n",
    "    i=i+1\n",
    "print(sum)"
   ]
  },
  {
   "cell_type": "markdown",
   "id": "d5505baf",
   "metadata": {},
   "source": [
    "### printing a number n times"
   ]
  },
  {
   "cell_type": "code",
   "execution_count": null,
   "id": "28dded4c",
   "metadata": {},
   "outputs": [],
   "source": [
    "n=int(input())\n",
    "count=1\n",
    "while count<=n:\n",
    "    print(\"2\")\n",
    "    count=count+1\n",
    "print()"
   ]
  },
  {
   "cell_type": "markdown",
   "id": "2790e755",
   "metadata": {},
   "source": [
    "### printing first n natural numbers"
   ]
  },
  {
   "cell_type": "code",
   "execution_count": 17,
   "id": "cb544f7f",
   "metadata": {},
   "outputs": [
    {
     "name": "stdout",
     "output_type": "stream",
     "text": [
      "4\n",
      "1\n",
      "2\n",
      "3\n",
      "4\n"
     ]
    }
   ],
   "source": [
    "n=int(input())\n",
    "count=1\n",
    "while count<=n:\n",
    "    print(count)\n",
    "    count=count+1"
   ]
  },
  {
   "cell_type": "markdown",
   "id": "ef09d031",
   "metadata": {},
   "source": [
    "###  PRIMALITY CHECKING"
   ]
  },
  {
   "cell_type": "code",
   "execution_count": 19,
   "id": "e3ae09d4",
   "metadata": {},
   "outputs": [
    {
     "name": "stdout",
     "output_type": "stream",
     "text": [
      "5\n",
      "n is prime\n"
     ]
    }
   ],
   "source": [
    "n=int(input())\n",
    "i=2\n",
    "flag = False\n",
    "while i<n:\n",
    "    if n%i==0:\n",
    "        flag =True\n",
    "    i=i+1\n",
    "if flag:\n",
    "    print(\"n is not prime\")\n",
    "else:\n",
    "    print(\"n is prime\")"
   ]
  },
  {
   "cell_type": "code",
   "execution_count": 7,
   "id": "22b7f2e6",
   "metadata": {},
   "outputs": [
    {
     "name": "stdout",
     "output_type": "stream",
     "text": [
      "22\n"
     ]
    },
    {
     "data": {
      "text/plain": [
       "str"
      ]
     },
     "execution_count": 7,
     "metadata": {},
     "output_type": "execute_result"
    }
   ],
   "source": [
    "a=10\n",
    "a=\"2\"\n",
    "b=a++''"
   ]
  },
  {
   "cell_type": "code",
   "execution_count": null,
   "id": "9d95cbfd",
   "metadata": {},
   "outputs": [],
   "source": []
  }
 ],
 "metadata": {
  "kernelspec": {
   "display_name": "Python 3 (ipykernel)",
   "language": "python",
   "name": "python3"
  },
  "language_info": {
   "codemirror_mode": {
    "name": "ipython",
    "version": 3
   },
   "file_extension": ".py",
   "mimetype": "text/x-python",
   "name": "python",
   "nbconvert_exporter": "python",
   "pygments_lexer": "ipython3",
   "version": "3.9.7"
  }
 },
 "nbformat": 4,
 "nbformat_minor": 5
}
