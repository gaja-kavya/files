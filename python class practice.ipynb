{
 "cells": [
  {
   "cell_type": "code",
   "execution_count": 1,
   "id": "30b179c1",
   "metadata": {},
   "outputs": [
    {
     "name": "stdout",
     "output_type": "stream",
     "text": [
      "[0, 1, 2, 3, 4, 5, 6, 7, 8, 9]\n"
     ]
    }
   ],
   "source": [
    "li=[]\n",
    "newlist=[x for x in range(0,10)]\n",
    "print(newlist)"
   ]
  },
  {
   "cell_type": "code",
   "execution_count": 3,
   "id": "9863b910",
   "metadata": {},
   "outputs": [
    {
     "name": "stdout",
     "output_type": "stream",
     "text": [
      "[0, 2, 4, 6, 8]\n"
     ]
    }
   ],
   "source": [
    "li=[]\n",
    "newlist=[x for x in range(0,10) if x%2==0]\n",
    "print(newlist)"
   ]
  },
  {
   "cell_type": "code",
   "execution_count": 19,
   "id": "c8adbe37",
   "metadata": {},
   "outputs": [
    {
     "name": "stdout",
     "output_type": "stream",
     "text": [
      "[0, 1, 2, 3, 4, 5, 6, 7, 8, 9]\n",
      "[0, 1, 2, 3, 4, 5, 6, 7, 8, 9]\n"
     ]
    }
   ],
   "source": [
    "import timeit\n",
    "def fun1():\n",
    "    li=[]\n",
    "    newlist=[x for x in range(0,10) ]\n",
    "    print(newlist)\n",
    "def fun2():\n",
    "    li=[]\n",
    "    for x in range(10):\n",
    "        li.append(x)\n",
    "    print(li)\n",
    "\n",
    "fun1()\n",
    "fun2()"
   ]
  },
  {
   "cell_type": "code",
   "execution_count": 21,
   "id": "e5cadcb9",
   "metadata": {},
   "outputs": [
    {
     "name": "stdout",
     "output_type": "stream",
     "text": [
      "{'kavya': 23, 'navya': 43, 'santhu': 21}\n"
     ]
    }
   ],
   "source": [
    "stdnts=['kavya','navya','santhu']\n",
    "marks=[23,43,21]\n",
    "d={}\n",
    "for i,j in zip(stdnts,marks):\n",
    "    d[i]=j\n",
    "print(d)\n",
    "    "
   ]
  },
  {
   "cell_type": "code",
   "execution_count": 22,
   "id": "5cf63271",
   "metadata": {},
   "outputs": [
    {
     "name": "stdout",
     "output_type": "stream",
     "text": [
      "{'kavya': 23, 'navya': 43, 'santhu': 21}\n"
     ]
    }
   ],
   "source": [
    "stdnts=['kavya','navya','santhu']\n",
    "marks=[23,43,21]\n",
    "d={k:v for (k,v) in zip(stdnts,marks)}\n",
    "print(d)\n",
    "    "
   ]
  },
  {
   "cell_type": "code",
   "execution_count": 25,
   "id": "8e6d11b9",
   "metadata": {},
   "outputs": [
    {
     "name": "stdout",
     "output_type": "stream",
     "text": [
      "SKEEGROFSKEEG\n"
     ]
    }
   ],
   "source": [
    "str1 = 'GeeksforGeeks'\n",
    " \n",
    "# lambda returns a function object\n",
    "rev_upper = lambda string: string.upper()[::-1]\n",
    "print(rev_upper(str1))"
   ]
  },
  {
   "cell_type": "code",
   "execution_count": 34,
   "id": "35899daf",
   "metadata": {},
   "outputs": [
    {
     "name": "stdout",
     "output_type": "stream",
     "text": [
      "0\n",
      "2\n",
      "4\n",
      "6\n",
      "8\n",
      "10\n",
      "12\n",
      "14\n",
      "16\n",
      "18\n"
     ]
    }
   ],
   "source": [
    "li=[lambda y=x:y*2 for x in range(10)]\n",
    "for item in li:\n",
    "    print(item())"
   ]
  },
  {
   "cell_type": "code",
   "execution_count": 31,
   "id": "38e1f9e7",
   "metadata": {},
   "outputs": [
    {
     "name": "stdout",
     "output_type": "stream",
     "text": [
      "10\n",
      "20\n",
      "30\n",
      "40\n"
     ]
    }
   ],
   "source": [
    "is_even_list = [lambda arg=x: arg * 10 for x in range(1, 5)]\n",
    " \n",
    "# iterate on each lambda function\n",
    "# and invoke the function to get the calculated value\n",
    "for item in is_even_list:\n",
    "    print(item())"
   ]
  },
  {
   "cell_type": "markdown",
   "id": "0245bdf0",
   "metadata": {},
   "source": [
    "###  Filter all people having age more than 18, using lambda and filter() function\n"
   ]
  },
  {
   "cell_type": "code",
   "execution_count": 36,
   "id": "72c886dc",
   "metadata": {},
   "outputs": [
    {
     "name": "stdout",
     "output_type": "stream",
     "text": [
      "[34, 34, 23, 66]\n"
     ]
    }
   ],
   "source": [
    "li=[34,12,34,8,23,66,17]\n",
    "newlist=list(filter(lambda x :(x>18),li))\n",
    "print(newlist)"
   ]
  },
  {
   "cell_type": "code",
   "execution_count": null,
   "id": "7e38ffd9",
   "metadata": {},
   "outputs": [],
   "source": []
  },
  {
   "cell_type": "markdown",
   "id": "05d91db2",
   "metadata": {},
   "source": [
    "###  Transform all elements of a list to upper case using lambda and map() function and reverse elements\n"
   ]
  },
  {
   "cell_type": "code",
   "execution_count": 39,
   "id": "58041f8e",
   "metadata": {},
   "outputs": [
    {
     "name": "stdout",
     "output_type": "stream",
     "text": [
      "['AYVAK', 'AYVAN', 'UHTNAS']\n"
     ]
    }
   ],
   "source": [
    "stdnts=['kavya','navya','santhu']\n",
    "new=list(map(lambda x:x.upper()[::-1],stdnts))\n",
    "print(new)"
   ]
  },
  {
   "cell_type": "markdown",
   "id": "0a00f6b3",
   "metadata": {},
   "source": [
    "###  Transform all elements of a list to upper case using lambda and map() function\n"
   ]
  },
  {
   "cell_type": "code",
   "execution_count": null,
   "id": "f266fe53",
   "metadata": {},
   "outputs": [],
   "source": [
    "stdnts=['kavya','navya','santhu']\n",
    "new=list(map(lambda x:x.upper(),stdnts))\n",
    "print(new)"
   ]
  },
  {
   "cell_type": "code",
   "execution_count": null,
   "id": "8f0f49d5",
   "metadata": {},
   "outputs": [],
   "source": []
  },
  {
   "cell_type": "code",
   "execution_count": null,
   "id": "bf6af619",
   "metadata": {},
   "outputs": [],
   "source": []
  }
 ],
 "metadata": {
  "kernelspec": {
   "display_name": "Python 3 (ipykernel)",
   "language": "python",
   "name": "python3"
  },
  "language_info": {
   "codemirror_mode": {
    "name": "ipython",
    "version": 3
   },
   "file_extension": ".py",
   "mimetype": "text/x-python",
   "name": "python",
   "nbconvert_exporter": "python",
   "pygments_lexer": "ipython3",
   "version": "3.9.7"
  }
 },
 "nbformat": 4,
 "nbformat_minor": 5
}
