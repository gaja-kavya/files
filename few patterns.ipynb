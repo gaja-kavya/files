{
 "cells": [
  {
   "cell_type": "code",
   "execution_count": 3,
   "id": "44f03562",
   "metadata": {},
   "outputs": [
    {
     "name": "stdout",
     "output_type": "stream",
     "text": [
      "4\n",
      "   1\n",
      "  121\n",
      " 12321\n",
      "01234321\n"
     ]
    }
   ],
   "source": [
    "N=int(input())\n",
    "row=1\n",
    "while row<=N:\n",
    "    spaces =1\n",
    "    while spaces<= N- row:\n",
    "        print(\" \",end=\"\")\n",
    "        spaces=spaces+1\n",
    "        num=1\n",
    "    while num<=row:\n",
    "        print(num,end=\"\")\n",
    "        num=num+1\n",
    "    num=row-1\n",
    "    while num>=1:\n",
    "        print(num,end=\"\")\n",
    "        num=num-1\n",
    "    print()\n",
    "    row=row+1"
   ]
  },
  {
   "cell_type": "code",
   "execution_count": 12,
   "id": "13aa0692",
   "metadata": {},
   "outputs": [
    {
     "name": "stdout",
     "output_type": "stream",
     "text": [
      "5\n",
      "    1\n",
      "   121\n",
      "  12321\n",
      " 1234321\n",
      "0123454321\n"
     ]
    }
   ],
   "source": [
    "N=int(input()) \n",
    "row=1\n",
    "while row<=N: \n",
    "    spaces =1 \n",
    "    while spaces<= N- row:\n",
    "        print(\" \",end=\"\")\n",
    "        spaces=spaces+1\n",
    "        num=1 \n",
    "    while num<=row: \n",
    "        print(num,end=\"\")\n",
    "        num=num+1\n",
    "    num=row-1 \n",
    "    while num>=1: \n",
    "        print(num,end=\"\")\n",
    "        num=num-1\n",
    "    print()\n",
    "    row=row+1"
   ]
  },
  {
   "cell_type": "markdown",
   "id": "990a36d3",
   "metadata": {},
   "source": [
    "### REVERSED PATTERN"
   ]
  },
  {
   "cell_type": "code",
   "execution_count": 4,
   "id": "a7ad2e4e",
   "metadata": {},
   "outputs": [
    {
     "name": "stdout",
     "output_type": "stream",
     "text": [
      "4\n",
      "   *\n",
      "  **\n",
      " ***\n",
      "****\n"
     ]
    }
   ],
   "source": [
    "N=int(input())\n",
    "i=1\n",
    "while(i<=N):\n",
    "    j=1\n",
    "    while(j<=N):\n",
    "        if (j<=N-i):\n",
    "            print(\" \",end=\"\")\n",
    "        else:\n",
    "            print(\"*\",end=\"\")\n",
    "        j=j+1\n",
    "    i=i+1\n",
    "    print()"
   ]
  }
 ],
 "metadata": {
  "kernelspec": {
   "display_name": "Python 3 (ipykernel)",
   "language": "python",
   "name": "python3"
  },
  "language_info": {
   "codemirror_mode": {
    "name": "ipython",
    "version": 3
   },
   "file_extension": ".py",
   "mimetype": "text/x-python",
   "name": "python",
   "nbconvert_exporter": "python",
   "pygments_lexer": "ipython3",
   "version": "3.9.7"
  }
 },
 "nbformat": 4,
 "nbformat_minor": 5
}
