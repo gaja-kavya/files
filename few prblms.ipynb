{
 "cells": [
  {
   "cell_type": "code",
   "execution_count": null,
   "id": "a7a62408",
   "metadata": {},
   "outputs": [],
   "source": [
    "print(5+6)"
   ]
  },
  {
   "cell_type": "code",
   "execution_count": null,
   "id": "c4bce06c",
   "metadata": {},
   "outputs": [],
   "source": [
    "5+2"
   ]
  },
  {
   "cell_type": "code",
   "execution_count": 3,
   "id": "25a79a6c",
   "metadata": {},
   "outputs": [
    {
     "name": "stdout",
     "output_type": "stream",
     "text": [
      "22\n"
     ]
    },
    {
     "data": {
      "text/plain": [
       "-2"
      ]
     },
     "execution_count": 3,
     "metadata": {},
     "output_type": "execute_result"
    }
   ],
   "source": [
    "a=10\n",
    "b=12\n",
    "print(a+b)\n",
    "a-b"
   ]
  },
  {
   "cell_type": "code",
   "execution_count": null,
   "id": "a2687fe8",
   "metadata": {},
   "outputs": [],
   "source": [
    "f=input(\"enter the fahrenheit value:\")\n",
    "print(f)\n"
   ]
  },
  {
   "cell_type": "code",
   "execution_count": null,
   "id": "c09736f1",
   "metadata": {},
   "outputs": [],
   "source": [
    "name=input(\"what is your name?\")\n",
    "print(name)\n",
    "age=input(\"what is your age?\")\n",
    "print(age)\n",
    "institution=input(\"In which institution are you studying?\")\n",
    "institution"
   ]
  },
  {
   "cell_type": "code",
   "execution_count": null,
   "id": "2da914d4",
   "metadata": {},
   "outputs": [
    {
     "name": "stdout",
     "output_type": "stream",
     "text": [
      "7\n"
     ]
    }
   ],
   "source": [
    "n=int(input())\n",
    "m=True\n",
    "if n>1:\n",
    "    i=2\n",
    "    while i<n:\n",
    "        if n%2==0:\n",
    "            m=False\n",
    "            break\n",
    "            i=i+1\n",
    "if n<=1:\n",
    "    print(\"is not prime\")\n",
    "elif m:\n",
    "    print(m)\n",
    "else:\n",
    "    print(\"is not prime\")"
   ]
  },
  {
   "cell_type": "code",
   "execution_count": null,
   "id": "da171dd2",
   "metadata": {},
   "outputs": [],
   "source": []
  }
 ],
 "metadata": {
  "kernelspec": {
   "display_name": "Python 3 (ipykernel)",
   "language": "python",
   "name": "python3"
  },
  "language_info": {
   "codemirror_mode": {
    "name": "ipython",
    "version": 3
   },
   "file_extension": ".py",
   "mimetype": "text/x-python",
   "name": "python",
   "nbconvert_exporter": "python",
   "pygments_lexer": "ipython3",
   "version": "3.9.7"
  }
 },
 "nbformat": 4,
 "nbformat_minor": 5
}
