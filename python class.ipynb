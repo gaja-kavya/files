{
 "cells": [
  {
   "cell_type": "markdown",
   "id": "ea65f966",
   "metadata": {},
   "source": [
    "### factors and perfect number"
   ]
  },
  {
   "cell_type": "code",
   "execution_count": 2,
   "id": "2198890d",
   "metadata": {},
   "outputs": [
    {
     "name": "stdout",
     "output_type": "stream",
     "text": [
      "25\n",
      "the factors of given number are: 1\n",
      "the factors of given number are: 5\n",
      "the given number is not a perfect number\n"
     ]
    }
   ],
   "source": [
    "n=int(input(\"enter a number:\"))\n",
    "sum=0\n",
    "for i in range(1,n):\n",
    "    if(n%i==0):\n",
    "        print(\"the factors of given number are:\",i)\n",
    "        sum=sum+i\n",
    "if(sum==n):\n",
    "    print(\"given number is perfect number\")\n",
    "else:\n",
    "    print(\"the given number is not a perfect number\")"
   ]
  },
  {
   "cell_type": "markdown",
   "id": "4c349f5f",
   "metadata": {},
   "source": [
    "### average of n  numbers"
   ]
  },
  {
   "cell_type": "code",
   "execution_count": 5,
   "id": "55f3cb4a",
   "metadata": {},
   "outputs": [
    {
     "name": "stdout",
     "output_type": "stream",
     "text": [
      "emter how many numbers:4\n",
      "enter number:3\n",
      "enter number:4\n",
      "enter number:5\n",
      "enter number:6\n",
      "average of numbers is 4.5\n"
     ]
    }
   ],
   "source": [
    "n=int(input(\"emter how many numbers:\"))\n",
    "sum=0\n",
    "for j in range(1,n+1):\n",
    "    j=int(input(\"enter number:\"))\n",
    "    sum=sum+j\n",
    "average=sum/n\n",
    "print(\"average of numbers is\",average)"
   ]
  },
  {
   "cell_type": "markdown",
   "id": "53021b5f",
   "metadata": {},
   "source": [
    "### lcm of two numbers"
   ]
  },
  {
   "cell_type": "code",
   "execution_count": 6,
   "id": "1d855e14",
   "metadata": {},
   "outputs": [
    {
     "name": "stdout",
     "output_type": "stream",
     "text": [
      "Enter first number: 5\n",
      "Enter second number: 9\n",
      "LCM of 5 and 9 = 45\n"
     ]
    }
   ],
   "source": [
    "num1 = int(input(\"Enter first number: \"))  \n",
    "num2 = int(input(\"Enter second number: \"))  \n",
    "if num1 > num2:  \n",
    "    greater = num1  \n",
    "else:  \n",
    "    greater = num2  \n",
    "while(True):  \n",
    "    if((greater % num1 == 0) and (greater % num2 == 0)):  \n",
    "        lcm = greater  \n",
    "        break  \n",
    "    greater += 1  \n",
    "print(\"LCM of\",num1,\"and\",num2,\"=\",greater)"
   ]
  },
  {
   "cell_type": "markdown",
   "id": "d220dd79",
   "metadata": {},
   "source": [
    "### palindrome"
   ]
  },
  {
   "cell_type": "code",
   "execution_count": 6,
   "id": "1bb43889",
   "metadata": {},
   "outputs": [
    {
     "name": "stdout",
     "output_type": "stream",
     "text": [
      "enter any number:1221\n",
      "1221\n",
      "it is palindrome\n"
     ]
    }
   ],
   "source": [
    "n=int(input(\"enter any number:\"))\n",
    "a=0\n",
    "b=n\n",
    "while(n>0):\n",
    "    m=n%10\n",
    "    a=a*10+m\n",
    "    n=n//10\n",
    "print(a)\n",
    "if(b==a):\n",
    "    print(\"it is palindrome\")\n",
    "else:\n",
    "    print(\"not a palindrome\")\n"
   ]
  },
  {
   "cell_type": "markdown",
   "id": "ddf8c913",
   "metadata": {},
   "source": []
  },
  {
   "cell_type": "markdown",
   "id": "11b5a513",
   "metadata": {},
   "source": [
    "### collatz sequence"
   ]
  },
  {
   "cell_type": "code",
   "execution_count": 8,
   "id": "c4093fc0",
   "metadata": {},
   "outputs": [
    {
     "name": "stdout",
     "output_type": "stream",
     "text": [
      "22, 11, 34, 17, 52, 26, 13, 40, 20, 10, 5, 16, 8, 4, 2, 1\n"
     ]
    }
   ],
   "source": [
    "def Collatz(n): \n",
    " \n",
    "    while n != 1: \n",
    "        print(n, end = ', ') \n",
    " \n",
    "        if n & 1: \n",
    "            n = 3 * n + 1\n",
    " \n",
    "        else: \n",
    "            n = n // 2\n",
    "    print(n) \n",
    " \n",
    "Collatz(22) "
   ]
  },
  {
   "cell_type": "code",
   "execution_count": 11,
   "id": "4192c361",
   "metadata": {},
   "outputs": [
    {
     "name": "stdout",
     "output_type": "stream",
     "text": [
      "5\n",
      "23\n",
      "5\n",
      "7\n",
      "11\n",
      "13\n",
      "17\n",
      "19\n",
      "23\n"
     ]
    }
   ],
   "source": [
    "n=int(input())\n",
    "m=int(input())\n",
    "for num in range(n,m+1):\n",
    "    if num>1:\n",
    "        for i in range(2,num):\n",
    "            if (num%i==0):\n",
    "                break\n",
    "        else:\n",
    "            print(num)"
   ]
  },
  {
   "cell_type": "code",
   "execution_count": 25,
   "id": "6a396610",
   "metadata": {},
   "outputs": [
    {
     "name": "stdout",
     "output_type": "stream",
     "text": [
      "<_io.TextIOWrapper name='hy.txt' mode='a+' encoding='cp1252'>\n"
     ]
    }
   ],
   "source": [
    "file=open(\"hy.txt\",\"a+\")\n",
    "file.readlines()\n",
    "print(file)\n",
    "file.close()"
   ]
  },
  {
   "cell_type": "code",
   "execution_count": 27,
   "id": "9052bc9b",
   "metadata": {},
   "outputs": [
    {
     "name": "stdout",
     "output_type": "stream",
     "text": [
      "[[1, 2, 3], [2, 4, 5], [25, 4, 6]]\n",
      "[[1, 2, 3], [2, 4, 5], [25, 4, 6]]\n",
      "[[1, 2, 3], [2, 4, 5], [25, 4, 6]]\n"
     ]
    }
   ],
   "source": [
    "a=[[1,2,3],[2,4,5],[25,4,6,]]\n",
    "for i in a:\n",
    "    print(a)"
   ]
  },
  {
   "cell_type": "code",
   "execution_count": 30,
   "id": "2eaebeea",
   "metadata": {},
   "outputs": [
    {
     "name": "stdout",
     "output_type": "stream",
     "text": [
      "[[ 3 28 10]\n",
      " [ 8 13 10]]\n"
     ]
    }
   ],
   "source": [
    "import numpy as np\n",
    "a=np.array([[1,22,3],[4,5,7]])\n",
    "b=np.array([[2,6,7],[4,8,3]])\n",
    "c=a+b\n",
    "print(c)"
   ]
  },
  {
   "cell_type": "code",
   "execution_count": 36,
   "id": "921fc667",
   "metadata": {},
   "outputs": [
    {
     "name": "stdout",
     "output_type": "stream",
     "text": [
      "[1, 5.5]\n"
     ]
    },
    {
     "data": {
      "text/plain": [
       "[47, 'hello', 5.5, 1]"
      ]
     },
     "execution_count": 36,
     "metadata": {},
     "output_type": "execute_result"
    }
   ],
   "source": [
    "a=[1,5.5,\"hello\",47]\n",
    "print(a[:2])\n",
    "print(a[::-1])"
   ]
  },
  {
   "cell_type": "code",
   "execution_count": null,
   "id": "4598217a",
   "metadata": {},
   "outputs": [],
   "source": []
  }
 ],
 "metadata": {
  "kernelspec": {
   "display_name": "Python 3 (ipykernel)",
   "language": "python",
   "name": "python3"
  },
  "language_info": {
   "codemirror_mode": {
    "name": "ipython",
    "version": 3
   },
   "file_extension": ".py",
   "mimetype": "text/x-python",
   "name": "python",
   "nbconvert_exporter": "python",
   "pygments_lexer": "ipython3",
   "version": "3.9.7"
  }
 },
 "nbformat": 4,
 "nbformat_minor": 5
}
