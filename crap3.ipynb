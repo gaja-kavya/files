{
 "cells": [
  {
   "cell_type": "code",
   "execution_count": 2,
   "id": "2ecccd19",
   "metadata": {},
   "outputs": [
    {
     "name": "stdout",
     "output_type": "stream",
     "text": [
      "marks of first test of a student?6\n",
      "marks of second test of a student?7\n",
      "marks of third test of a student?5\n",
      "6.0\n"
     ]
    }
   ],
   "source": [
    "a=int(input(\"marks of first test of a student?\"))\n",
    "b=int(input(\"marks of second test of a student?\"))\n",
    "c=int(input(\"marks of third test of a student?\"))\n",
    "d=(a+b+c)/3\n",
    "print(d)"
   ]
  }
 ],
 "metadata": {
  "kernelspec": {
   "display_name": "Python 3 (ipykernel)",
   "language": "python",
   "name": "python3"
  },
  "language_info": {
   "codemirror_mode": {
    "name": "ipython",
    "version": 3
   },
   "file_extension": ".py",
   "mimetype": "text/x-python",
   "name": "python",
   "nbconvert_exporter": "python",
   "pygments_lexer": "ipython3",
   "version": "3.9.7"
  }
 },
 "nbformat": 4,
 "nbformat_minor": 5
}
