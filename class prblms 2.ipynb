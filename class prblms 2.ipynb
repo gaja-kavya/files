{
 "cells": [
  {
   "cell_type": "code",
   "execution_count": 15,
   "id": "563defdb",
   "metadata": {},
   "outputs": [
    {
     "name": "stdout",
     "output_type": "stream",
     "text": [
      "abc\n"
     ]
    }
   ],
   "source": [
    "a=10\n",
    "a=\"abc\"\n",
    "print(a)\n"
   ]
  },
  {
   "cell_type": "markdown",
   "id": "90d9b638",
   "metadata": {},
   "source": []
  },
  {
   "cell_type": "code",
   "execution_count": 2,
   "id": "1add8d08",
   "metadata": {},
   "outputs": [
    {
     "name": "stdout",
     "output_type": "stream",
     "text": [
      "20\n",
      "30\n"
     ]
    }
   ],
   "source": [
    "a=20\n",
    "print(a)\n",
    "a=30\n",
    "print(a)"
   ]
  },
  {
   "cell_type": "code",
   "execution_count": 14,
   "id": "dbee32ad",
   "metadata": {},
   "outputs": [
    {
     "data": {
      "text/plain": [
       "1607428106832"
      ]
     },
     "execution_count": 14,
     "metadata": {},
     "output_type": "execute_result"
    }
   ],
   "source": [
    "a=10\n",
    "id(a)"
   ]
  },
  {
   "cell_type": "code",
   "execution_count": 17,
   "id": "acb7a52d",
   "metadata": {},
   "outputs": [
    {
     "name": "stdout",
     "output_type": "stream",
     "text": [
      "7\n",
      "6\n",
      "x>y is True\n",
      "x<y is False\n",
      "x==y is False\n",
      "x>=y is True\n",
      "x<=y is False\n",
      "x!=y is True\n"
     ]
    }
   ],
   "source": [
    "x=int(input())\n",
    "y=int(input())\n",
    "print(\"x>y is\",x>y)\n",
    "print(\"x<y is\",x<y)\n",
    "print(\"x==y is\",x==y)\n",
    "print(\"x>=y is\",x>=y)\n",
    "print(\"x<=y is\",x<=y)\n",
    "print(\"x!=y is\",x!=y)"
   ]
  },
  {
   "cell_type": "code",
   "execution_count": null,
   "id": "c923bf1f",
   "metadata": {},
   "outputs": [],
   "source": [
    "n=int(input())\n",
    "if n%2==0:\n",
    "    print(\"n is even\")\n",
    "    if n=0:\n",
    "        print(\"n is zero\")\n",
    "else :\n",
    "    print(\"n is odd\")\n",
    "    "
   ]
  },
  {
   "cell_type": "code",
   "execution_count": null,
   "id": "c6c3ab10",
   "metadata": {},
   "outputs": [],
   "source": [
    "n=int"
   ]
  }
 ],
 "metadata": {
  "kernelspec": {
   "display_name": "Python 3 (ipykernel)",
   "language": "python",
   "name": "python3"
  },
  "language_info": {
   "codemirror_mode": {
    "name": "ipython",
    "version": 3
   },
   "file_extension": ".py",
   "mimetype": "text/x-python",
   "name": "python",
   "nbconvert_exporter": "python",
   "pygments_lexer": "ipython3",
   "version": "3.9.7"
  }
 },
 "nbformat": 4,
 "nbformat_minor": 5
}
