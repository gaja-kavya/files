{
 "cells": [
  {
   "cell_type": "code",
   "execution_count": 1,
   "id": "9acd58e5",
   "metadata": {},
   "outputs": [
    {
     "name": "stdout",
     "output_type": "stream",
     "text": [
      "7\n",
      "2\n",
      "3\n",
      "5\n",
      "7\n"
     ]
    }
   ],
   "source": [
    "n=int(input())\n",
    "k=2\n",
    "while k<=n:\n",
    "    d=2\n",
    "    flag=False\n",
    "    while d<k:\n",
    "        if (k%d==0):\n",
    "            flag=True\n",
    "        d=d+1\n",
    "    if not(flag):\n",
    "        print(k)\n",
    "    k=k+1"
   ]
  },
  {
   "cell_type": "code",
   "execution_count": null,
   "id": "f25c51e2",
   "metadata": {},
   "outputs": [],
   "source": [
    "n=int(input())\n",
    "k=1\n",
    "while k<=n:\n",
    "    flag=False\n",
    "    d=2\n",
    "    while (k%d==0):\n",
    "            flag=True\n",
    "            k=k+1\n",
    "            print(k)\n",
    "    "
   ]
  }
 ],
 "metadata": {
  "kernelspec": {
   "display_name": "Python 3 (ipykernel)",
   "language": "python",
   "name": "python3"
  },
  "language_info": {
   "codemirror_mode": {
    "name": "ipython",
    "version": 3
   },
   "file_extension": ".py",
   "mimetype": "text/x-python",
   "name": "python",
   "nbconvert_exporter": "python",
   "pygments_lexer": "ipython3",
   "version": "3.9.7"
  }
 },
 "nbformat": 4,
 "nbformat_minor": 5
}
