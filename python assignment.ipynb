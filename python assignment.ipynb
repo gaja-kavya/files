{
 "cells": [
  {
   "cell_type": "markdown",
   "id": "c4315889",
   "metadata": {},
   "source": [
    "### Simple Calculator "
   ]
  },
  {
   "cell_type": "code",
   "execution_count": 3,
   "id": "78759a39",
   "metadata": {},
   "outputs": [
    {
     "name": "stdout",
     "output_type": "stream",
     "text": [
      "enter first number: 5.5\n",
      "enter second number: 4\n",
      "1.addition\n",
      "2.substraction\n",
      "3.multiplication\n",
      "4.division\n",
      "5.remainder\n",
      "6.power\n",
      "choose operation: 5\n",
      "1.5\n",
      "if you want to exit press (y):\n",
      "else press any key:y\n"
     ]
    }
   ],
   "source": [
    "while(True):\n",
    "    a=float(input('enter first number: '))\n",
    "    b=float(input('enter second number: '))\n",
    "    print('1.addition\\n2.substraction\\n3.multiplication\\n4.division\\n5.remainder\\n6.power')\n",
    "    task=int(input('choose operation: '))\n",
    "    if task==1:\n",
    "        print(a+b)\n",
    "    elif task==2:\n",
    "        print(a-b)\n",
    "    elif task==3:\n",
    "        print(a*b)\n",
    "    elif task==4:\n",
    "        print(a/b)\n",
    "    elif task==5:\n",
    "        print(a%b)\n",
    "    elif task==6:\n",
    "        c=(a**b)\n",
    "        d=(b**a)\n",
    "        if(c>d):\n",
    "            print(c)\n",
    "        else:\n",
    "            print(d)\n",
    "    n=input('if you want to exit press (y):\\nelse press any key:')\n",
    "    if (n=='y'):\n",
    "        break\n",
    "   "
   ]
  },
  {
   "cell_type": "markdown",
   "id": "4bb8b495",
   "metadata": {},
   "source": [
    "### Guess the number game"
   ]
  },
  {
   "cell_type": "code",
   "execution_count": 1,
   "id": "7ee17b16",
   "metadata": {},
   "outputs": [
    {
     "name": "stdout",
     "output_type": "stream",
     "text": [
      "enter a number : 45\n",
      "enter no of chances: 5\n",
      "enter your number: 34\n",
      "your number is less than the number\n",
      "enter your number: 40\n",
      "you are near to the number\n",
      "enter your number: 43\n",
      "you are near to the number\n",
      "enter your number: 45\n",
      "Congratulations..!\n",
      "you took 4 chances to guess the number\n",
      "Thanks for playing\n"
     ]
    }
   ],
   "source": [
    "num=int(input('enter a number : '))\n",
    "chances=int(input('enter no of chances: '))\n",
    "for i in range(1,chances+1):\n",
    "    gnum=int(input('enter your number: '))\n",
    "    if (gnum==num):\n",
    "        print(f'Congratulations..!\\nyou took {i} chances to guess the number\\nThanks for playing')\n",
    "        break\n",
    "    for j in range(1,6):\n",
    "        if((gnum+j==num) or (gnum-j)==num):\n",
    "            print('you are near to the number')\n",
    "            break\n",
    "    else:\n",
    "        if(gnum>num):\n",
    "            print('your number is greater than the number')\n",
    "        elif(gnum<num):\n",
    "            print('your number is less than the number')\n",
    "        \n",
    "else:\n",
    "    print('thanks for playing')"
   ]
  },
  {
   "cell_type": "code",
   "execution_count": 14,
   "id": "abceb828",
   "metadata": {},
   "outputs": [
    {
     "name": "stdout",
     "output_type": "stream",
     "text": [
      "enter any number5\n",
      "120\n"
     ]
    }
   ],
   "source": [
    "\n",
    "def fac():\n",
    "    n=int(input('enter any number'))\n",
    "    a=1\n",
    "    for i in range(n,1,-1):\n",
    "        a=a*i\n",
    "    print(a)\n",
    "fac()\n",
    "        \n"
   ]
  },
  {
   "cell_type": "code",
   "execution_count": 15,
   "id": "90207393",
   "metadata": {},
   "outputs": [
    {
     "name": "stdout",
     "output_type": "stream",
     "text": [
      "enter any number6\n"
     ]
    },
    {
     "data": {
      "text/plain": [
       "720"
      ]
     },
     "execution_count": 15,
     "metadata": {},
     "output_type": "execute_result"
    }
   ],
   "source": [
    "def fac():\n",
    "    n=int(input('enter any number'))\n",
    "    a=1\n",
    "    for i in range(n,1,-1):\n",
    "        a=a*i\n",
    "    return(a)\n",
    "fac()\n",
    "        \n"
   ]
  },
  {
   "cell_type": "code",
   "execution_count": 39,
   "id": "ca2b5e76",
   "metadata": {},
   "outputs": [
    {
     "name": "stdout",
     "output_type": "stream",
     "text": [
      "[5, 1, 2, 3, 4, 5, 1, 2, 3, 4, 1, 2, 3, 4, 1, 2, 3, 4, 1, 2, 3, 4, 1, 2, 3, 4, 1, 2, 3, 4, 1, 2, 3, 4]\n"
     ]
    }
   ],
   "source": [
    "li=[1,2,3,4,5,6,7,8,9]\n",
    "list=[]\n",
    "for i in range(0,4):\n",
    "    list1.append(li[i])\n",
    "print(list1)\n",
    "    "
   ]
  },
  {
   "cell_type": "code",
   "execution_count": 58,
   "id": "260a5798",
   "metadata": {},
   "outputs": [
    {
     "name": "stdout",
     "output_type": "stream",
     "text": [
      "None\n"
     ]
    },
    {
     "data": {
      "text/plain": [
       "[6, 7, 8, 9]"
      ]
     },
     "execution_count": 58,
     "metadata": {},
     "output_type": "execute_result"
    }
   ],
   "source": [
    "li=[1,2,3,4,5,6,7,8,9]\n",
    "list=[]\n",
    "list1=[]\n",
    "list3=[]\n",
    "def add():\n",
    "    for i in range(0,5):\n",
    "        list.append(li[i])\n",
    "    return (list)\n",
    "def sum():\n",
    "    for j in range(5,9):\n",
    "        list1.append(li[j])\n",
    "    return list1\n",
    "c=list.extend(list1)\n",
    "print(c)\n",
    "add()\n",
    "sum()\n",
    "    "
   ]
  },
  {
   "cell_type": "code",
   "execution_count": 72,
   "id": "ecd88687",
   "metadata": {},
   "outputs": [
    {
     "name": "stdout",
     "output_type": "stream",
     "text": [
      "[[1, 4, 5, 6, 6], [7, 7, 8, 82, 2, 4, 5]]\n"
     ]
    }
   ],
   "source": [
    "list=[1,4,5,6,6,7,7,8,82,2,4,5]\n",
    "li=[]\n",
    "list2=[]\n",
    "n=5\n",
    "for i in range(0,len(list),n):\n",
    "    li.append(list[i])\n",
    "for j in range(5,:\n",
    "    list2.append(list[j])\n",
    "list1=[li,list2]\n",
    "print(list1)\n"
   ]
  },
  {
   "cell_type": "code",
   "execution_count": 111,
   "id": "1fe9c620",
   "metadata": {},
   "outputs": [
    {
     "name": "stdout",
     "output_type": "stream",
     "text": [
      "[[1, 4, 5, 6, 6, 7, 7, 8, 82, 2, 4, 5]]\n"
     ]
    }
   ],
   "source": [
    "list=[1,4,5,6,6,7,7,8,82,2,4,5]\n",
    "li=[]\n",
    "list2=[]\n",
    "n=5\n",
    "for i in list:\n",
    "    list3=[]\n",
    "    for j in range(0,len(list),5):\n",
    "        li.append(i)\n",
    "        break\n",
    "        if j==n-1:\n",
    "            break\n",
    "\n",
    "    \n",
    "    \n",
    "list1=[li]\n",
    "print(list1)\n"
   ]
  },
  {
   "cell_type": "code",
   "execution_count": 129,
   "id": "111bbba4",
   "metadata": {},
   "outputs": [
    {
     "name": "stdout",
     "output_type": "stream",
     "text": [
      "[[[4, 5]]]\n"
     ]
    }
   ],
   "source": [
    "list=[1,4,5,6,6,7,7,8,82,2,4,5]\n",
    "n=5\n",
    "l=[]\n",
    "for  i in range (0,len(list)):\n",
    "    if j==5:\n",
    "        l=[list[i]]\n",
    "li=[l]\n",
    "print(li)\n",
    "    "
   ]
  },
  {
   "cell_type": "code",
   "execution_count": 113,
   "id": "1fa920e3",
   "metadata": {},
   "outputs": [
    {
     "name": "stdout",
     "output_type": "stream",
     "text": [
      "[[1, 4, 5, 6, 6], [7, 7, 8, 82, 2], [4, 5]]\n"
     ]
    }
   ],
   "source": [
    "list=[1,4,5,6,6,7,7,8,82,2,4,5]\n",
    "n=5\n",
    "out=[list[i:i+n] for i in range(0,len(list),n)]\n",
    "print(out)"
   ]
  },
  {
   "cell_type": "code",
   "execution_count": null,
   "id": "480b5eab",
   "metadata": {},
   "outputs": [],
   "source": []
  },
  {
   "cell_type": "code",
   "execution_count": null,
   "id": "3f12845e",
   "metadata": {},
   "outputs": [],
   "source": []
  }
 ],
 "metadata": {
  "kernelspec": {
   "display_name": "Python 3 (ipykernel)",
   "language": "python",
   "name": "python3"
  },
  "language_info": {
   "codemirror_mode": {
    "name": "ipython",
    "version": 3
   },
   "file_extension": ".py",
   "mimetype": "text/x-python",
   "name": "python",
   "nbconvert_exporter": "python",
   "pygments_lexer": "ipython3",
   "version": "3.9.7"
  }
 },
 "nbformat": 4,
 "nbformat_minor": 5
}
