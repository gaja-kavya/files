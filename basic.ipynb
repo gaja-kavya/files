{
 "cells": [
  {
   "cell_type": "code",
   "execution_count": 21,
   "id": "5d87ed31",
   "metadata": {},
   "outputs": [
    {
     "name": "stdout",
     "output_type": "stream",
     "text": [
      "9\n",
      "8\n"
     ]
    },
    {
     "data": {
      "text/plain": [
       "'98'"
      ]
     },
     "execution_count": 21,
     "metadata": {},
     "output_type": "execute_result"
    }
   ],
   "source": [
    "a=input()\n",
    "b=input()\n",
    "a+b"
   ]
  },
  {
   "cell_type": "code",
   "execution_count": 35,
   "id": "45ab72e5",
   "metadata": {},
   "outputs": [
    {
     "name": "stdout",
     "output_type": "stream",
     "text": [
      "x > y is False\n"
     ]
    }
   ],
   "source": [
    "x=9\n",
    "y=10\n",
    "print('x > y is',x>y) "
   ]
  },
  {
   "cell_type": "code",
   "execution_count": 39,
   "id": "8ce2ffa0",
   "metadata": {},
   "outputs": [
    {
     "name": "stdout",
     "output_type": "stream",
     "text": [
      "True\n",
      "False\n"
     ]
    }
   ],
   "source": [
    "a=10\n",
    "b=20\n",
    "c=a>b\n",
    "d=a<b\n",
    "print(not(c))\n",
    "print(not(d))"
   ]
  },
  {
   "cell_type": "code",
   "execution_count": 55,
   "id": "151a7c08",
   "metadata": {},
   "outputs": [
    {
     "name": "stdout",
     "output_type": "stream",
     "text": [
      "value is False\n"
     ]
    }
   ],
   "source": [
    "val=False\n",
    "if val==True:\n",
    "    print(\"value is True\")\n",
    "print(\"value is False\")\n",
    "    "
   ]
  },
  {
   "cell_type": "code",
   "execution_count": 60,
   "id": "706d84e5",
   "metadata": {},
   "outputs": [
    {
     "name": "stdout",
     "output_type": "stream",
     "text": [
      "a\n"
     ]
    }
   ],
   "source": [
    "a=False\n",
    "if a:\n",
    "    print(\"g\")\n",
    "print(\"a\")"
   ]
  },
  {
   "cell_type": "code",
   "execution_count": 64,
   "id": "7136dc10",
   "metadata": {},
   "outputs": [
    {
     "name": "stdout",
     "output_type": "stream",
     "text": [
      "abc\n",
      "ghi\n"
     ]
    }
   ],
   "source": [
    "a=True\n",
    "if a:\n",
    "    print(\"abc\")\n",
    "    print(\"ghi\")\n",
    "else:\n",
    "    print(\"dgh\")\n",
    "    "
   ]
  },
  {
   "cell_type": "code",
   "execution_count": 65,
   "id": "4eb88a0c",
   "metadata": {},
   "outputs": [],
   "source": [
    "#determining e"
   ]
  },
  {
   "cell_type": "code",
   "execution_count": 75,
   "id": "c79b3b6e",
   "metadata": {},
   "outputs": [
    {
     "name": "stdout",
     "output_type": "stream",
     "text": [
      "67\n",
      "98\n",
      "a and b are greater than 10\n"
     ]
    }
   ],
   "source": [
    "a=int(input())\n",
    "b=int(input())\n",
    "c=a>10\n",
    "d=b>10\n",
    "if c and d:\n",
    "    print(\"a and b are greater than 10\")\n",
    "else:\n",
    "    print(\"either a nor b is less than 10\")"
   ]
  }
 ],
 "metadata": {
  "kernelspec": {
   "display_name": "Python 3 (ipykernel)",
   "language": "python",
   "name": "python3"
  },
  "language_info": {
   "codemirror_mode": {
    "name": "ipython",
    "version": 3
   },
   "file_extension": ".py",
   "mimetype": "text/x-python",
   "name": "python",
   "nbconvert_exporter": "python",
   "pygments_lexer": "ipython3",
   "version": "3.9.7"
  }
 },
 "nbformat": 4,
 "nbformat_minor": 5
}
