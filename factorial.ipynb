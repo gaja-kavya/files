{
 "cells": [
  {
   "cell_type": "code",
   "execution_count": 5,
   "id": "95df9726",
   "metadata": {},
   "outputs": [
    {
     "name": "stdout",
     "output_type": "stream",
     "text": [
      "6\n",
      "720\n"
     ]
    }
   ],
   "source": [
    "n=int(input())\n",
    "i=1\n",
    "if (n<0):\n",
    "    print(\"does not exist\")\n",
    "elif (n==0):\n",
    "    print(\"1\")\n",
    "else:\n",
    "    while (n>0):\n",
    "        i=i*n\n",
    "        n=n-1\n",
    "    print(i)\n",
    "        "
   ]
  },
  {
   "cell_type": "code",
   "execution_count": null,
   "id": "71079cfd",
   "metadata": {},
   "outputs": [],
   "source": [
    "n=int(input())\n",
    "i=1\n",
    "while (n%2==0):\n",
    "    i=i+1\n",
    "    print(n)"
   ]
  }
 ],
 "metadata": {
  "kernelspec": {
   "display_name": "Python 3 (ipykernel)",
   "language": "python",
   "name": "python3"
  },
  "language_info": {
   "codemirror_mode": {
    "name": "ipython",
    "version": 3
   },
   "file_extension": ".py",
   "mimetype": "text/x-python",
   "name": "python",
   "nbconvert_exporter": "python",
   "pygments_lexer": "ipython3",
   "version": "3.9.7"
  }
 },
 "nbformat": 4,
 "nbformat_minor": 5
}
