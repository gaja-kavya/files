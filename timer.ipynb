{
 "cells": [
  {
   "cell_type": "code",
   "execution_count": 40,
   "id": "e5b77c4a",
   "metadata": {},
   "outputs": [
    {
     "name": "stdout",
     "output_type": "stream",
     "text": [
      "enter how many seconds:5\n",
      "boom\n",
      "timer done\n"
     ]
    }
   ],
   "source": [
    "def timer(a):\n",
    "    while a>0:\n",
    "        print(a,end='\\r')\n",
    "        a=a-1\n",
    "        time.sleep(1)\n",
    "    print('boom\\ntimer done!!!')\n",
    "seconds=int(input('enter how many seconds:'))\n",
    "timer(seconds)"
   ]
  }
 ],
 "metadata": {
  "kernelspec": {
   "display_name": "Python 3 (ipykernel)",
   "language": "python",
   "name": "python3"
  },
  "language_info": {
   "codemirror_mode": {
    "name": "ipython",
    "version": 3
   },
   "file_extension": ".py",
   "mimetype": "text/x-python",
   "name": "python",
   "nbconvert_exporter": "python",
   "pygments_lexer": "ipython3",
   "version": "3.9.7"
  }
 },
 "nbformat": 4,
 "nbformat_minor": 5
}
