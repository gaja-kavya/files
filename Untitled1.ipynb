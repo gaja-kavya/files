{
 "cells": [
  {
   "cell_type": "markdown",
   "id": "981ab53f",
   "metadata": {},
   "source": [
    "### printing matrices"
   ]
  },
  {
   "cell_type": "code",
   "execution_count": 4,
   "id": "2c365fea",
   "metadata": {},
   "outputs": [
    {
     "name": "stdout",
     "output_type": "stream",
     "text": [
      "1 2 4 \n",
      "2 4 6 8 \n"
     ]
    }
   ],
   "source": [
    "a=[[1,2,4],[2,4,6,8]]\n",
    "for row in a:\n",
    "    for col in row:\n",
    "        print(col,end=\" \")\n",
    "    print()"
   ]
  },
  {
   "cell_type": "markdown",
   "id": "4e20dac8",
   "metadata": {},
   "source": [
    "### accessing elements in 2d lists"
   ]
  },
  {
   "cell_type": "code",
   "execution_count": 8,
   "id": "70485b35",
   "metadata": {},
   "outputs": [
    {
     "name": "stdout",
     "output_type": "stream",
     "text": [
      "[1, 2, 4]\n",
      "6\n",
      "[2, 4, 6, 8]\n"
     ]
    }
   ],
   "source": [
    "a=[[1,2,4],[2,4,6,8]]\n",
    "print(a[0])\n",
    "print(a[1][2])\n",
    "print(a[1])"
   ]
  },
  {
   "cell_type": "markdown",
   "id": "f458b09a",
   "metadata": {},
   "source": [
    "### updating values in 2d lists"
   ]
  },
  {
   "cell_type": "code",
   "execution_count": 10,
   "id": "548123fd",
   "metadata": {},
   "outputs": [
    {
     "name": "stdout",
     "output_type": "stream",
     "text": [
      "[[1, 2, 5], [0, 4, 6, 8]]\n"
     ]
    }
   ],
   "source": [
    "a=[[1,2,4],[2,4,6,8]]\n",
    "a[0][2]=5\n",
    "a[1][0]=0\n",
    "print(a)"
   ]
  },
  {
   "cell_type": "markdown",
   "id": "66adf764",
   "metadata": {},
   "source": [
    "### list comprehension"
   ]
  },
  {
   "cell_type": "code",
   "execution_count": 14,
   "id": "befbc657",
   "metadata": {},
   "outputs": [
    {
     "name": "stdout",
     "output_type": "stream",
     "text": [
      "[1, 216, 512, 0]\n"
     ]
    }
   ],
   "source": [
    "a=[1,6,8,0]\n",
    "s=[n**3 for n in a]\n",
    "print(s)"
   ]
  },
  {
   "cell_type": "markdown",
   "id": "b0c1c35b",
   "metadata": {},
   "source": [
    "### finding common numbers from two lists"
   ]
  },
  {
   "cell_type": "code",
   "execution_count": 17,
   "id": "8914f403",
   "metadata": {},
   "outputs": [
    {
     "name": "stdout",
     "output_type": "stream",
     "text": [
      "[4, 3]\n"
     ]
    }
   ],
   "source": [
    "list_a=[1,4,3,8]\n",
    "list_b=[4,6,3,9]\n",
    "s=[a for a in list_a for b in list_b if a==b]\n",
    "print(s)"
   ]
  },
  {
   "cell_type": "markdown",
   "id": "4dd15e2c",
   "metadata": {},
   "source": [
    "### jagged lists"
   ]
  },
  {
   "cell_type": "code",
   "execution_count": 20,
   "id": "eff67782",
   "metadata": {},
   "outputs": [
    {
     "name": "stdout",
     "output_type": "stream",
     "text": [
      "[[1, 5, 8, 8], [3, 5], [4]]\n",
      "8\n",
      "4\n",
      "[4]\n"
     ]
    }
   ],
   "source": [
    "a=[[1,5,8,8],[3,5],[4]]\n",
    "print(a)\n",
    "print(a[0][3])\n",
    "print(a[2][0])#printing single element using both 2d lists and normal and it gives output as number \n",
    "print(a[2])#gives o/p as list"
   ]
  },
  {
   "cell_type": "markdown",
   "id": "d95278c9",
   "metadata": {},
   "source": [
    "### using list comprehension and join method"
   ]
  },
  {
   "cell_type": "code",
   "execution_count": 24,
   "id": "d9fbf59f",
   "metadata": {},
   "outputs": [
    {
     "name": "stdout",
     "output_type": "stream",
     "text": [
      "1 4 6\n",
      "4 6 99\n",
      "32 7 90\n",
      "3 6 9 7\n"
     ]
    }
   ],
   "source": [
    "a=[[1,4,6],[4,6,99],[32,7,90],[3,6,9,7]]\n",
    "for row in a:\n",
    "    result=\" \".join([str(col) for col in row])\n",
    "    print(result)"
   ]
  },
  {
   "cell_type": "code",
   "execution_count": 25,
   "id": "2841a080",
   "metadata": {},
   "outputs": [
    {
     "name": "stdout",
     "output_type": "stream",
     "text": [
      "1-4-6\n",
      "4-6-99\n",
      "32-7-90\n",
      "3-6-9-7\n"
     ]
    }
   ],
   "source": [
    "a=[[1,4,6],[4,6,99],[32,7,90],[3,6,9,7]]\n",
    "for row in a:\n",
    "    result=\"-\".join([str(col) for col in row])\n",
    "    print(result)"
   ]
  },
  {
   "cell_type": "code",
   "execution_count": 26,
   "id": "4b961955",
   "metadata": {},
   "outputs": [
    {
     "name": "stdout",
     "output_type": "stream",
     "text": [
      "1.4.6\n",
      "4.6.99\n",
      "32.7.90\n",
      "3.6.9.7\n"
     ]
    }
   ],
   "source": [
    "a=[[1,4,6],[4,6,99],[32,7,90],[3,6,9,7]]\n",
    "for row in a:\n",
    "    result=\".\".join([str(col) for col in row])\n",
    "    print(result)"
   ]
  },
  {
   "cell_type": "code",
   "execution_count": 27,
   "id": "8c527eb1",
   "metadata": {},
   "outputs": [
    {
     "name": "stdout",
     "output_type": "stream",
     "text": [
      "146\n",
      "4699\n",
      "32790\n",
      "3697\n"
     ]
    }
   ],
   "source": [
    "a=[[1,4,6],[4,6,99],[32,7,90],[3,6,9,7]]\n",
    "for row in a:\n",
    "    result=\"\".join([str(col) for col in row])\n",
    "    print(result)"
   ]
  },
  {
   "cell_type": "markdown",
   "id": "a05fb210",
   "metadata": {},
   "source": [
    "### take user inputs and print 2d lists using for loop in python"
   ]
  },
  {
   "cell_type": "code",
   "execution_count": null,
   "id": "8dabe195",
   "metadata": {},
   "outputs": [],
   "source": [
    "n=int(input(\"enter i\"))\n",
    "k=int(input('enter j'))\n",
    "list1=[]\n",
    "for i in range (n):\n",
    "    list2=[]\n",
    "    for j in range (k):\n",
    "        m=int(input())\n",
    "        list2.append(m)\n",
    "    list1.append(list2)\n",
    "print(list1)\n"
   ]
  },
  {
   "cell_type": "code",
   "execution_count": 10,
   "id": "26442043",
   "metadata": {},
   "outputs": [
    {
     "name": "stdout",
     "output_type": "stream",
     "text": [
      "2\n",
      "2\n",
      "2\n",
      "3\n",
      "4\n",
      "5\n",
      "[[2, 3], [4, 5]]\n"
     ]
    }
   ],
   "source": [
    "n = int(input())\n",
    "m = int(input())\n",
    "input_list = []\n",
    "for i in range(n):\n",
    "    list1=[]\n",
    "    for j in range(m):\n",
    "        z = int(input())\n",
    "        list1.append(z)\n",
    "    input_list.append(list1)\n",
    "print(input_list)"
   ]
  },
  {
   "cell_type": "code",
   "execution_count": 23,
   "id": "1b15b67b",
   "metadata": {},
   "outputs": [
    {
     "ename": "SyntaxError",
     "evalue": "invalid syntax (Temp/ipykernel_11096/3237014623.py, line 3)",
     "output_type": "error",
     "traceback": [
      "\u001b[1;36m  File \u001b[1;32m\"C:\\Users\\gajas\\AppData\\Local\\Temp/ipykernel_11096/3237014623.py\"\u001b[1;36m, line \u001b[1;32m3\u001b[0m\n\u001b[1;33m    list=[[int(col) for col in range m input().split()] for row in range n]\u001b[0m\n\u001b[1;37m                                     ^\u001b[0m\n\u001b[1;31mSyntaxError\u001b[0m\u001b[1;31m:\u001b[0m invalid syntax\n"
     ]
    }
   ],
   "source": [
    "n=int(input())\n",
    "m=int(input())\n",
    "list=[[ n = int(input())\n",
    "input= [[int(col) for col in input.split()] for row in range n]\n",
    "print(col) for col in range m ] for row in range n]\n",
    "print(list)"
   ]
  },
  {
   "cell_type": "code",
   "execution_count": 20,
   "id": "871bbd2e",
   "metadata": {},
   "outputs": [
    {
     "ename": "SyntaxError",
     "evalue": "invalid syntax (Temp/ipykernel_11096/517802284.py, line 2)",
     "output_type": "error",
     "traceback": [
      "\u001b[1;36m  File \u001b[1;32m\"C:\\Users\\gajas\\AppData\\Local\\Temp/ipykernel_11096/517802284.py\"\u001b[1;36m, line \u001b[1;32m2\u001b[0m\n\u001b[1;33m    input= [[int(col) for col in input.split()] for row in range n]\u001b[0m\n\u001b[1;37m                                                                 ^\u001b[0m\n\u001b[1;31mSyntaxError\u001b[0m\u001b[1;31m:\u001b[0m invalid syntax\n"
     ]
    }
   ],
   "source": [
    "n = int(input())\n",
    "input= [[input(.split() int(col) for col in input.split()] for row in range n]\n",
    "print(input)"
   ]
  },
  {
   "cell_type": "code",
   "execution_count": null,
   "id": "dfb4ed1c",
   "metadata": {},
   "outputs": [],
   "source": []
  },
  {
   "cell_type": "code",
   "execution_count": null,
   "id": "0bb51b35",
   "metadata": {},
   "outputs": [],
   "source": []
  },
  {
   "cell_type": "code",
   "execution_count": null,
   "id": "11189bae",
   "metadata": {},
   "outputs": [],
   "source": []
  },
  {
   "cell_type": "code",
   "execution_count": null,
   "id": "fd8668bd",
   "metadata": {},
   "outputs": [],
   "source": []
  }
 ],
 "metadata": {
  "kernelspec": {
   "display_name": "Python 3 (ipykernel)",
   "language": "python",
   "name": "python3"
  },
  "language_info": {
   "codemirror_mode": {
    "name": "ipython",
    "version": 3
   },
   "file_extension": ".py",
   "mimetype": "text/x-python",
   "name": "python",
   "nbconvert_exporter": "python",
   "pygments_lexer": "ipython3",
   "version": "3.9.7"
  }
 },
 "nbformat": 4,
 "nbformat_minor": 5
}
