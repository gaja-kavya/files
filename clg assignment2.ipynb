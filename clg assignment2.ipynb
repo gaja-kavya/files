{
 "cells": [
  {
   "cell_type": "code",
   "execution_count": null,
   "id": "fa0cff59",
   "metadata": {},
   "outputs": [],
   "source": [
    "# This is an empty python file\n",
    "# where you have to add your code to\n",
    "# implement a basic countdown timer!\n",
    "# \n",
    "# Good Luck!!!\n",
    "import time\n",
    "def countdown(t):\n",
    "    while t > 0:\n",
    "        print(t, end = '\\r')\n",
    "        t -= 1\n",
    "        time.sleep(1)\n",
    "    print(\"Timer done!!!\")\n",
    "\n",
    "print(\"Enter number of seconds for timer:\")\n",
    "seconds = input()\n",
    "seconds = int(seconds)\n",
    "countdown(seconds)"
   ]
  }
 ],
 "metadata": {
  "kernelspec": {
   "display_name": "Python 3 (ipykernel)",
   "language": "python",
   "name": "python3"
  },
  "language_info": {
   "codemirror_mode": {
    "name": "ipython",
    "version": 3
   },
   "file_extension": ".py",
   "mimetype": "text/x-python",
   "name": "python",
   "nbconvert_exporter": "python",
   "pygments_lexer": "ipython3",
   "version": "3.9.7"
  }
 },
 "nbformat": 4,
 "nbformat_minor": 5
}
