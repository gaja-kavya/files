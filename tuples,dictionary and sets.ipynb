{
 "cells": [
  {
   "cell_type": "markdown",
   "id": "b05a14f1",
   "metadata": {},
   "source": [
    "### tuples"
   ]
  },
  {
   "cell_type": "code",
   "execution_count": 5,
   "id": "8dd6885c",
   "metadata": {},
   "outputs": [
    {
     "name": "stdout",
     "output_type": "stream",
     "text": [
      "(1, 2.3, 'hello', True)\n",
      "(1, 2.3, 'hello', True)\n"
     ]
    }
   ],
   "source": [
    "a=(1,2.3,\"hello\",True)\n",
    "print(a)\n",
    "print(a)"
   ]
  },
  {
   "cell_type": "markdown",
   "id": "843b12b9",
   "metadata": {},
   "source": [
    "### without paranthesis and with comas separated(tuple packing)"
   ]
  },
  {
   "cell_type": "code",
   "execution_count": 7,
   "id": "1c7181c1",
   "metadata": {},
   "outputs": [
    {
     "name": "stdout",
     "output_type": "stream",
     "text": [
      "(1, 5, 'hello')\n",
      "<class 'tuple'>\n"
     ]
    }
   ],
   "source": [
    "a=1,5,'hello'\n",
    "print(a)\n",
    "print(type(a))"
   ]
  },
  {
   "cell_type": "markdown",
   "id": "cc159d77",
   "metadata": {},
   "source": [
    "### comma separated variables assigned to comma separated elements"
   ]
  },
  {
   "cell_type": "code",
   "execution_count": 9,
   "id": "987d146b",
   "metadata": {},
   "outputs": [
    {
     "name": "stdout",
     "output_type": "stream",
     "text": [
      "kavya\n",
      "santhu\n",
      "kavya navya santhu\n"
     ]
    }
   ],
   "source": [
    "a,b,c='kavya','navya','santhu'\n",
    "print(a)\n",
    "print(c)\n",
    "print(a,b,c)"
   ]
  },
  {
   "cell_type": "code",
   "execution_count": 10,
   "id": "713d8ebd",
   "metadata": {},
   "outputs": [
    {
     "data": {
      "text/plain": [
       "('k', 'a', 'v', 'y', 'a')"
      ]
     },
     "execution_count": 10,
     "metadata": {},
     "output_type": "execute_result"
    }
   ],
   "source": [
    "tuple('kavya')"
   ]
  },
  {
   "cell_type": "markdown",
   "id": "b2b8cc00",
   "metadata": {},
   "source": [
    "### showing class string not tuple even present in paranthesis"
   ]
  },
  {
   "cell_type": "code",
   "execution_count": 11,
   "id": "cc13acc3",
   "metadata": {},
   "outputs": [
    {
     "name": "stdout",
     "output_type": "stream",
     "text": [
      "<class 'str'>\n"
     ]
    }
   ],
   "source": [
    "a=('kavya')\n",
    "print(type(a))"
   ]
  },
  {
   "cell_type": "markdown",
   "id": "982ebc24",
   "metadata": {},
   "source": [
    "### trailing comma to create a tuple with single element"
   ]
  },
  {
   "cell_type": "code",
   "execution_count": 12,
   "id": "978e7a1f",
   "metadata": {},
   "outputs": [
    {
     "name": "stdout",
     "output_type": "stream",
     "text": [
      "('kavya',)\n",
      "<class 'tuple'>\n"
     ]
    }
   ],
   "source": [
    "a=('kavya',)\n",
    "print(a)\n",
    "print(type(a))"
   ]
  },
  {
   "cell_type": "markdown",
   "id": "079b1078",
   "metadata": {},
   "source": [
    "### Accessing elements of a tuple"
   ]
  },
  {
   "cell_type": "code",
   "execution_count": 15,
   "id": "de6f695f",
   "metadata": {},
   "outputs": [
    {
     "name": "stdout",
     "output_type": "stream",
     "text": [
      "(1, 6, 'kavya', 2.7, 'hyd', 'c')\n",
      "6\n",
      "2.7\n",
      "1\n"
     ]
    }
   ],
   "source": [
    "a=(1,6,'kavya',2.7,'hyd','c')\n",
    "print(a)\n",
    "print(a[1])\n",
    "print(a[-3])\n",
    "print(a[0])\n",
    "li(li.index)"
   ]
  },
  {
   "cell_type": "markdown",
   "id": "b7365c78",
   "metadata": {},
   "source": [
    "### Slicing of a tuple"
   ]
  },
  {
   "cell_type": "code",
   "execution_count": 21,
   "id": "bf6bea33",
   "metadata": {},
   "outputs": [
    {
     "name": "stdout",
     "output_type": "stream",
     "text": [
      "(6, 'kavya')\n",
      "(1, 6, 'kavya', 2.7, 'hyd', 'c')\n",
      "('c', 'hyd', 2.7, 'kavya', 6, 1)\n",
      "('kavya', 2.7, 'hyd', 'c')\n",
      "(6, 2.7)\n"
     ]
    }
   ],
   "source": [
    "a=(1,6,'kavya',2.7,'hyd','c')\n",
    "print(a[1:3])\n",
    "print(a[:])\n",
    "print(a[::-1])\n",
    "print(a[2:])\n",
    "print(a[1:4:2])\n"
   ]
  },
  {
   "cell_type": "markdown",
   "id": "0a07c95d",
   "metadata": {},
   "source": [
    "### Changes to a tuple"
   ]
  },
  {
   "cell_type": "code",
   "execution_count": 23,
   "id": "c4ccad7b",
   "metadata": {},
   "outputs": [
    {
     "name": "stdout",
     "output_type": "stream",
     "text": [
      "([1, 2, 3], 1, 6, 'kavya', 2.7, 'hyd', 'c')\n",
      "([1, 'kavya', 3], 1, 6, 'kavya', 2.7, 'hyd', 'c')\n"
     ]
    }
   ],
   "source": [
    "a=([1,2,3],1,6,'kavya',2.7,'hyd','c')\n",
    "print(a)#However, you cannot change any single element in the tuple.\n",
    "a[0][1]=\"kavya\"#Though, you can change items from any mutable object in the tuple.\n",
    "print(a)"
   ]
  },
  {
   "cell_type": "code",
   "execution_count": 27,
   "id": "91863961",
   "metadata": {},
   "outputs": [],
   "source": [
    "a=([1,2,3],1,6,'kavya',2.7,'hyd','c')\n",
    "del(a)#If you want to delete a tuple entirely, such an operation is possible. The keyword used is del\n"
   ]
  },
  {
   "cell_type": "markdown",
   "id": "f9525007",
   "metadata": {},
   "source": [
    "### Tuples functions"
   ]
  },
  {
   "cell_type": "code",
   "execution_count": 28,
   "id": "91a4df9f",
   "metadata": {},
   "outputs": [
    {
     "name": "stdout",
     "output_type": "stream",
     "text": [
      "[1, 2, 3]\n",
      "1\n",
      "6\n",
      "kavya\n",
      "2.7\n",
      "hyd\n",
      "c\n"
     ]
    }
   ],
   "source": [
    "a=([1,2,3],1,6,'kavya',2.7,'hyd','c')\n",
    "for i in range(len(a)):\n",
    "    print(a[i])#We can use loops to iterate through a tuple: For example, if we want to print allthe elements in the tuple. We can run the following loop"
   ]
  },
  {
   "cell_type": "code",
   "execution_count": 30,
   "id": "5bae087d",
   "metadata": {},
   "outputs": [
    {
     "name": "stdout",
     "output_type": "stream",
     "text": [
      "[1, 2, 3]\n",
      "1\n",
      "6\n",
      "kavya\n",
      "2.7\n",
      "hyd\n",
      "c\n"
     ]
    }
   ],
   "source": [
    "a=([1,2,3],1,6,'kavya',2.7,'hyd','c')\n",
    "for i in a:\n",
    "    print(i)"
   ]
  },
  {
   "cell_type": "code",
   "execution_count": 33,
   "id": "d6502943",
   "metadata": {},
   "outputs": [
    {
     "name": "stdout",
     "output_type": "stream",
     "text": [
      "True\n"
     ]
    },
    {
     "data": {
      "text/plain": [
       "True"
      ]
     },
     "execution_count": 33,
     "metadata": {},
     "output_type": "execute_result"
    }
   ],
   "source": [
    "a=([1,2,3],1,6,'kavya',2.7,'hyd','c')\n",
    "print(1 in a)\n",
    "6 in a"
   ]
  },
  {
   "cell_type": "markdown",
   "id": "da44ca71",
   "metadata": {},
   "source": [
    "###  Concatenation"
   ]
  },
  {
   "cell_type": "code",
   "execution_count": 37,
   "id": "8924a746",
   "metadata": {},
   "outputs": [
    {
     "name": "stdout",
     "output_type": "stream",
     "text": [
      "([1, 2, 3], 1, 6, 'kavya', 2.7, 'hyd', 'c', 7, 2.5, 'hy')\n"
     ]
    }
   ],
   "source": [
    "a=([1,2,3],1,6,'kavya',2.7,'hyd','c')\n",
    "b=(7,2.5,'hy')\n",
    "print(a+b)"
   ]
  },
  {
   "cell_type": "code",
   "execution_count": 38,
   "id": "e42fc945",
   "metadata": {},
   "outputs": [
    {
     "name": "stdout",
     "output_type": "stream",
     "text": [
      "(([1, 2, 3], 1, 6, 'kavya', 2.7, 'hyd', 'c'), (7, 2.5, 'hy'))\n"
     ]
    }
   ],
   "source": [
    "a=([1,2,3],1,6,'kavya',2.7,'hyd','c')\n",
    "b=(7,2.5,'hy')\n",
    "d=(a,b)## Here d is a nested tuple which is formed from 2 different tuples.\n",
    "print(d)"
   ]
  },
  {
   "cell_type": "code",
   "execution_count": 39,
   "id": "a616d32d",
   "metadata": {},
   "outputs": [
    {
     "name": "stdout",
     "output_type": "stream",
     "text": [
      "([1, 2, 3], 1, 6, 'kavya', 2.7, 'hyd', 'c', [1, 2, 3], 1, 6, 'kavya', 2.7, 'hyd', 'c', [1, 2, 3], 1, 6, 'kavya', 2.7, 'hyd', 'c')\n"
     ]
    }
   ],
   "source": [
    "a=([1,2,3],1,6,'kavya',2.7,'hyd','c')\n",
    "print(a*3)"
   ]
  },
  {
   "cell_type": "markdown",
   "id": "0f16c100",
   "metadata": {},
   "source": [
    "### Min and max of tuple"
   ]
  },
  {
   "cell_type": "code",
   "execution_count": 49,
   "id": "8688cbed",
   "metadata": {},
   "outputs": [
    {
     "name": "stdout",
     "output_type": "stream",
     "text": [
      "1.3\n",
      "2\n"
     ]
    }
   ],
   "source": [
    "a=(2,3,1.3,6,2.7,)\n",
    "c=min(a)\n",
    "print(min(a))\n",
    "print(a.index(c))## Even though the data types are different , however since a float can be\n",
    "#compared to a floating point value, hence this operation does not give an\n",
    "#error.\n"
   ]
  },
  {
   "cell_type": "markdown",
   "id": "a5e03bff",
   "metadata": {},
   "source": [
    "### Converting a list to a tuple"
   ]
  },
  {
   "cell_type": "code",
   "execution_count": 54,
   "id": "a46bb5e4",
   "metadata": {},
   "outputs": [
    {
     "name": "stdout",
     "output_type": "stream",
     "text": [
      "[[1, 2, 3], 1, 6, 'kavya', 2.7, 'hyd', 'c']\n",
      "<class 'list'>\n",
      "([1, 2, 'hi'], 1, 6, 'kavya', 2.7, 'hyd', 'c')\n",
      "<class 'tuple'>\n"
     ]
    }
   ],
   "source": [
    "a=[[1,2,3],1,6,'kavya',2.7,'hyd','c']\n",
    "print(a)\n",
    "print(type(a))\n",
    "d=tuple(a)\n",
    "d[0][2]='hi'#we can change elements of list as tuple changed to list\n",
    "print(d)\n",
    "print(type(d))"
   ]
  },
  {
   "cell_type": "code",
   "execution_count": 55,
   "id": "3c799c84",
   "metadata": {},
   "outputs": [
    {
     "name": "stdout",
     "output_type": "stream",
     "text": [
      "15.0\n"
     ]
    }
   ],
   "source": [
    "a=(2,3,1.3,6,2.7)\n",
    "d=sum(a)\n",
    "print(d)"
   ]
  },
  {
   "cell_type": "markdown",
   "id": "205796d4",
   "metadata": {},
   "source": [
    "### Task 1: Giving a variable number of inputs and printing them:"
   ]
  },
  {
   "cell_type": "code",
   "execution_count": 60,
   "id": "a510fdfc",
   "metadata": {},
   "outputs": [
    {
     "name": "stdout",
     "output_type": "stream",
     "text": [
      "3\n",
      "6\n",
      "2 4 7 1\n"
     ]
    }
   ],
   "source": [
    "def print_num(a,b,*more):\n",
    "    print(a)\n",
    "    print(b)\n",
    "    print(*more)\n",
    "print_num(3,6,2,4,7,1)"
   ]
  },
  {
   "cell_type": "markdown",
   "id": "6866f6d5",
   "metadata": {},
   "source": [
    "### Task 2: Finding the sum of a variable number of inputs:"
   ]
  },
  {
   "cell_type": "code",
   "execution_count": 62,
   "id": "f7c59d0c",
   "metadata": {},
   "outputs": [
    {
     "name": "stdout",
     "output_type": "stream",
     "text": [
      "23\n"
     ]
    }
   ],
   "source": [
    "def input(a,b,*c):\n",
    "    sum=a+b\n",
    "    for i in c:\n",
    "        sum=sum+i\n",
    "    print(sum)\n",
    "input(1,3,6,8,5,)"
   ]
  },
  {
   "cell_type": "code",
   "execution_count": 63,
   "id": "32d84332",
   "metadata": {},
   "outputs": [
    {
     "data": {
      "text/plain": [
       "(5, -1)"
      ]
     },
     "execution_count": 63,
     "metadata": {},
     "output_type": "execute_result"
    }
   ],
   "source": [
    "#Tuples help us in returning multiple values from a single function.\n",
    "def sum_diff(a,b):\n",
    "    return (a+b),(a-b)\n",
    "sum_diff(2,3)\n"
   ]
  },
  {
   "cell_type": "code",
   "execution_count": 70,
   "id": "a18a1cf0",
   "metadata": {},
   "outputs": [
    {
     "data": {
      "text/plain": [
       "(5, -1)"
      ]
     },
     "execution_count": 70,
     "metadata": {},
     "output_type": "execute_result"
    }
   ],
   "source": [
    "def sum_diff(a,b,):\n",
    "    return (a+b),(a-b)\n",
    "sum_diff(2,3,)\n"
   ]
  },
  {
   "cell_type": "markdown",
   "id": "f92f344b",
   "metadata": {},
   "source": [
    "### dictionary"
   ]
  },
  {
   "cell_type": "markdown",
   "id": "80372d12",
   "metadata": {},
   "source": [
    "### creating a dictionary"
   ]
  },
  {
   "cell_type": "code",
   "execution_count": 79,
   "id": "088640fc",
   "metadata": {},
   "outputs": [
    {
     "name": "stdout",
     "output_type": "stream",
     "text": [
      "{1: 'kavya', 'red': 'color', 2.3: 'decimal'}\n",
      "kavya\n",
      "color\n"
     ]
    }
   ],
   "source": [
    "dic={1:\"kavya\",'red':'color',2.3:'decimal'}\n",
    "print(dic)\n",
    "print(dic[1])\n",
    "print(dic['red'])"
   ]
  },
  {
   "cell_type": "markdown",
   "id": "5e2b83bf",
   "metadata": {},
   "source": [
    "### list to dictionary(typecasting)"
   ]
  },
  {
   "cell_type": "code",
   "execution_count": 81,
   "id": "a1cc9a4c",
   "metadata": {},
   "outputs": [
    {
     "name": "stdout",
     "output_type": "stream",
     "text": [
      "[(1, 'kavya'), (5, 6.7), ('hello', 9)]\n",
      "{1: 'kavya', 5: 6.7, 'hello': 9}\n"
     ]
    }
   ],
   "source": [
    "list=[(1,'kavya'),(5,6.7),('hello',9)]\n",
    "print(list)#● The list must contain only tuples.\n",
    "# These tuples must be of length 2.\n",
    "# The first element in these tuples must be the key and the second element is the corresponding value.\n",
    "dic=dict(list)\n",
    "print(dic)"
   ]
  },
  {
   "cell_type": "markdown",
   "id": "3ae72a15",
   "metadata": {},
   "source": [
    "### duplicate a dictionary using inbuilt .copy() method"
   ]
  },
  {
   "cell_type": "code",
   "execution_count": 83,
   "id": "2a40e416",
   "metadata": {},
   "outputs": [
    {
     "name": "stdout",
     "output_type": "stream",
     "text": [
      "{1: 'kavya', 'red': 'color', 2.3: 'decimal'}\n",
      "{1: 'kavya', 'red': 'color', 2.3: 'decimal'}\n"
     ]
    }
   ],
   "source": [
    "dic={1:\"kavya\",'red':'color',2.3:'decimal'}\n",
    "dic1=dic.copy()\n",
    "print(dic1)\n",
    "print(dic)"
   ]
  },
  {
   "cell_type": "code",
   "execution_count": 90,
   "id": "9373095c",
   "metadata": {},
   "outputs": [
    {
     "name": "stdout",
     "output_type": "stream",
     "text": [
      "{'abc': ['hy', 1], 1: ['hy', 1], 'two': ['hy', 1]}\n"
     ]
    }
   ],
   "source": [
    "d1= dict.fromkeys([\"abc\",1,\"two\"],['hy',1])\n",
    "print(d1)"
   ]
  },
  {
   "cell_type": "markdown",
   "id": "7ab1c989",
   "metadata": {},
   "source": [
    "### access elements using inbuilt 'get' function"
   ]
  },
  {
   "cell_type": "code",
   "execution_count": 94,
   "id": "7129fdcb",
   "metadata": {},
   "outputs": [
    {
     "name": "stdout",
     "output_type": "stream",
     "text": [
      "kavya\n",
      "color\n",
      "None\n"
     ]
    }
   ],
   "source": [
    "dic={1:\"kavya\",'red':'color',2.3:'decimal'}\n",
    "print(dic.get(1))\n",
    "print(dic.get('red'))#A very unique feature about this method is that , incase the desired key is not present in\n",
    "#the dictionary , it won’t throw an error or an exception. It would simple return None.\n",
    "print(dic.get(7))\n"
   ]
  },
  {
   "cell_type": "code",
   "execution_count": 95,
   "id": "65e871a5",
   "metadata": {},
   "outputs": [
    {
     "name": "stdout",
     "output_type": "stream",
     "text": [
      "kavya\n",
      "0\n",
      "oops\n"
     ]
    }
   ],
   "source": [
    "#We can make use of this feature in another way. Say we want the method to do the\n",
    "#following action: If the key is present in the dictionary then return the value corresponding\n",
    "#to the key. In case the key is not present, return a custom desired value ( say 0 ).\n",
    "dic={1:\"kavya\",'red':'color',2.3:'decimal'}\n",
    "print(dic.get(1,0))\n",
    "print(dic.get(8,0))\n",
    "print(dic.get(8,'oops'))\n",
    "\n"
   ]
  },
  {
   "cell_type": "markdown",
   "id": "a63e472c",
   "metadata": {},
   "source": [
    "### Accessing all the available keys in the dictionary:\n"
   ]
  },
  {
   "cell_type": "code",
   "execution_count": 96,
   "id": "f307efaf",
   "metadata": {},
   "outputs": [
    {
     "data": {
      "text/plain": [
       "dict_keys([1, 'red', 2.3])"
      ]
     },
     "execution_count": 96,
     "metadata": {},
     "output_type": "execute_result"
    }
   ],
   "source": [
    "#This can be done using the method .keys(). This method returns all the different keys\n",
    "#present in the dictionary in the form of a list.\n",
    "dic={1:\"kavya\",'red':'color',2.3:'decimal'}\n",
    "dic.keys()\n"
   ]
  },
  {
   "cell_type": "markdown",
   "id": "1824b6b8",
   "metadata": {},
   "source": [
    "### accessall the values in a dictionary"
   ]
  },
  {
   "cell_type": "code",
   "execution_count": 97,
   "id": "6517b059",
   "metadata": {},
   "outputs": [
    {
     "data": {
      "text/plain": [
       "dict_values(['kavya', 'color', 'decimal'])"
      ]
     },
     "execution_count": 97,
     "metadata": {},
     "output_type": "execute_result"
    }
   ],
   "source": [
    "dic={1:\"kavya\",'red':'color',2.3:'decimal'}\n",
    "dic.values()"
   ]
  },
  {
   "cell_type": "markdown",
   "id": "0ca05b77",
   "metadata": {},
   "source": [
    "### accessing all the items in the dictionary"
   ]
  },
  {
   "cell_type": "code",
   "execution_count": 98,
   "id": "3630c015",
   "metadata": {},
   "outputs": [
    {
     "data": {
      "text/plain": [
       "dict_items([(1, 'kavya'), ('red', 'color'), (2.3, 'decimal')])"
      ]
     },
     "execution_count": 98,
     "metadata": {},
     "output_type": "execute_result"
    }
   ],
   "source": [
    "dic={1:\"kavya\",'red':'color',2.3:'decimal'}\n",
    "dic.items()"
   ]
  },
  {
   "cell_type": "markdown",
   "id": "def6bba6",
   "metadata": {},
   "source": [
    "### Checking if the dictionary contains a given key"
   ]
  },
  {
   "cell_type": "code",
   "execution_count": 101,
   "id": "f41dff50",
   "metadata": {},
   "outputs": [
    {
     "name": "stdout",
     "output_type": "stream",
     "text": [
      "True\n",
      "False\n"
     ]
    }
   ],
   "source": [
    "dic={1:\"kavya\",'red':'color',2.3:'decimal'}\n",
    "print(1 in dic)\n",
    "print(8 in dic)"
   ]
  },
  {
   "cell_type": "markdown",
   "id": "545de240",
   "metadata": {},
   "source": [
    "### Iterating over a Dictionary"
   ]
  },
  {
   "cell_type": "code",
   "execution_count": 102,
   "id": "6699b0eb",
   "metadata": {},
   "outputs": [
    {
     "name": "stdout",
     "output_type": "stream",
     "text": [
      "1\n",
      "red\n",
      "2.3\n"
     ]
    }
   ],
   "source": [
    "dic={1:\"kavya\",'red':'color',2.3:'decimal'}\n",
    "for t in dic:\n",
    "    print(t)"
   ]
  },
  {
   "cell_type": "code",
   "execution_count": 103,
   "id": "47b34be0",
   "metadata": {},
   "outputs": [
    {
     "name": "stdout",
     "output_type": "stream",
     "text": [
      "1 kavya\n",
      "red color\n",
      "2.3 decimal\n"
     ]
    }
   ],
   "source": [
    "dic={1:\"kavya\",'red':'color',2.3:'decimal'}\n",
    "for t in dic:\n",
    "    print(t,dic[t])"
   ]
  },
  {
   "cell_type": "code",
   "execution_count": 104,
   "id": "85ab8bf7",
   "metadata": {},
   "outputs": [
    {
     "name": "stdout",
     "output_type": "stream",
     "text": [
      "kavya\n",
      "color\n",
      "decimal\n"
     ]
    }
   ],
   "source": [
    "dic={1:\"kavya\",'red':'color',2.3:'decimal'}\n",
    "for t in dic:\n",
    "    print(dic[t])"
   ]
  },
  {
   "cell_type": "markdown",
   "id": "8aecd033",
   "metadata": {},
   "source": [
    "### adding elements in a dictionary"
   ]
  },
  {
   "cell_type": "code",
   "execution_count": 106,
   "id": "5bcf25e7",
   "metadata": {},
   "outputs": [
    {
     "name": "stdout",
     "output_type": "stream",
     "text": [
      "{1: 'kavya', 'red': 'color', 2.3: 'game', 'new': 'hi'}\n"
     ]
    }
   ],
   "source": [
    "dic={1:\"kavya\",'red':'color',2.3:'decimal'}\n",
    "dic[2.3]='game'\n",
    "dic['new']='hi'\n",
    "print(dic)"
   ]
  },
  {
   "cell_type": "markdown",
   "id": "31dd4e45",
   "metadata": {},
   "source": [
    "### concatenation of dictionary"
   ]
  },
  {
   "cell_type": "code",
   "execution_count": 109,
   "id": "06a366a0",
   "metadata": {},
   "outputs": [
    {
     "name": "stdout",
     "output_type": "stream",
     "text": [
      "{1: 'mix', 'red': 'color', 2.3: 'decimal', 6: 'num', 'august': 'month'}\n",
      "{1: 'mix', 6: 'num', 'august': 'month', 'red': 'color', 2.3: 'decimal'}\n"
     ]
    }
   ],
   "source": [
    "dic={1:\"kavya\",'red':'color',2.3:'decimal'}\n",
    "dic2={1:'mix',6:'num','august':'month'}\n",
    "dic.update(dic2)\n",
    "dic2.update(dic)\n",
    "print(dic)\n",
    "print(dic2)"
   ]
  },
  {
   "cell_type": "markdown",
   "id": "37a03b8c",
   "metadata": {},
   "source": [
    "### deleting an entry"
   ]
  },
  {
   "cell_type": "code",
   "execution_count": 112,
   "id": "30bae631",
   "metadata": {},
   "outputs": [
    {
     "data": {
      "text/plain": [
       "('color', 'theme', 3)"
      ]
     },
     "execution_count": 112,
     "metadata": {},
     "output_type": "execute_result"
    }
   ],
   "source": [
    "dic={1:\"kavya\",'red':('color','theme',3),2.3:'decimal'}\n",
    "dic.pop('red')"
   ]
  },
  {
   "cell_type": "markdown",
   "id": "eaadbee2",
   "metadata": {},
   "source": [
    "### deleting all the entries"
   ]
  },
  {
   "cell_type": "code",
   "execution_count": 113,
   "id": "f0308a90",
   "metadata": {},
   "outputs": [
    {
     "name": "stdout",
     "output_type": "stream",
     "text": [
      "{}\n"
     ]
    }
   ],
   "source": [
    "dic={1:\"kavya\",'red':'color',2.3:'decimal'}\n",
    "dic.clear()\n",
    "print(dic)"
   ]
  },
  {
   "cell_type": "markdown",
   "id": "f73200a5",
   "metadata": {},
   "source": [
    "### delete entire dictionary using del method same as list,tuple"
   ]
  },
  {
   "cell_type": "code",
   "execution_count": 117,
   "id": "043cc18d",
   "metadata": {},
   "outputs": [
    {
     "name": "stdout",
     "output_type": "stream",
     "text": [
      "{1: 'kavya', 'red': 'color', 2.3: 'decimal'}\n"
     ]
    },
    {
     "ename": "NameError",
     "evalue": "name 'dic' is not defined",
     "output_type": "error",
     "traceback": [
      "\u001b[1;31m---------------------------------------------------------------------------\u001b[0m",
      "\u001b[1;31mNameError\u001b[0m                                 Traceback (most recent call last)",
      "\u001b[1;32m~\\AppData\\Local\\Temp/ipykernel_2548/49794308.py\u001b[0m in \u001b[0;36m<module>\u001b[1;34m\u001b[0m\n\u001b[0;32m      2\u001b[0m \u001b[0mprint\u001b[0m\u001b[1;33m(\u001b[0m\u001b[0mdic\u001b[0m\u001b[1;33m)\u001b[0m\u001b[1;33m\u001b[0m\u001b[1;33m\u001b[0m\u001b[0m\n\u001b[0;32m      3\u001b[0m \u001b[1;32mdel\u001b[0m\u001b[1;33m(\u001b[0m\u001b[0mdic\u001b[0m\u001b[1;33m)\u001b[0m\u001b[1;33m\u001b[0m\u001b[1;33m\u001b[0m\u001b[0m\n\u001b[1;32m----> 4\u001b[1;33m \u001b[0mprint\u001b[0m\u001b[1;33m(\u001b[0m\u001b[0mdic\u001b[0m\u001b[1;33m)\u001b[0m\u001b[1;31m#error since it was deleted\u001b[0m\u001b[1;33m\u001b[0m\u001b[1;33m\u001b[0m\u001b[0m\n\u001b[0m",
      "\u001b[1;31mNameError\u001b[0m: name 'dic' is not defined"
     ]
    }
   ],
   "source": [
    "dic={1:\"kavya\",'red':'color',2.3:'decimal'}\n",
    "print(dic)\n",
    "del(dic)\n",
    "print(dic)#error since it was deleted"
   ]
  },
  {
   "cell_type": "code",
   "execution_count": 125,
   "id": "5d38e45d",
   "metadata": {},
   "outputs": [
    {
     "ename": "AttributeError",
     "evalue": "'int' object has no attribute 'split'",
     "output_type": "error",
     "traceback": [
      "\u001b[1;31m---------------------------------------------------------------------------\u001b[0m",
      "\u001b[1;31mAttributeError\u001b[0m                            Traceback (most recent call last)",
      "\u001b[1;32m~\\AppData\\Local\\Temp/ipykernel_2548/905303799.py\u001b[0m in \u001b[0;36m<module>\u001b[1;34m\u001b[0m\n\u001b[0;32m     13\u001b[0m         \u001b[1;32mif\u001b[0m \u001b[0mdict\u001b[0m\u001b[1;33m[\u001b[0m\u001b[0mt\u001b[0m\u001b[1;33m]\u001b[0m\u001b[1;33m==\u001b[0m\u001b[0mk\u001b[0m\u001b[1;33m:\u001b[0m\u001b[1;33m\u001b[0m\u001b[1;33m\u001b[0m\u001b[0m\n\u001b[0;32m     14\u001b[0m             \u001b[0mprint\u001b[0m\u001b[1;33m(\u001b[0m\u001b[0mt\u001b[0m\u001b[1;33m)\u001b[0m\u001b[1;33m\u001b[0m\u001b[1;33m\u001b[0m\u001b[0m\n\u001b[1;32m---> 15\u001b[1;33m \u001b[0mstring_words\u001b[0m\u001b[1;33m(\u001b[0m\u001b[1;36m2\u001b[0m\u001b[1;33m,\u001b[0m\u001b[1;36m2\u001b[0m\u001b[1;33m)\u001b[0m\u001b[1;33m\u001b[0m\u001b[1;33m\u001b[0m\u001b[0m\n\u001b[0m",
      "\u001b[1;32m~\\AppData\\Local\\Temp/ipykernel_2548/905303799.py\u001b[0m in \u001b[0;36mstring_words\u001b[1;34m(string, k)\u001b[0m\n\u001b[0;32m      1\u001b[0m \u001b[1;32mdef\u001b[0m \u001b[0mstring_words\u001b[0m\u001b[1;33m(\u001b[0m\u001b[0mstring\u001b[0m\u001b[1;33m,\u001b[0m \u001b[0mk\u001b[0m\u001b[1;33m)\u001b[0m\u001b[1;33m:\u001b[0m\u001b[1;33m\u001b[0m\u001b[1;33m\u001b[0m\u001b[0m\n\u001b[0;32m      2\u001b[0m     \u001b[1;31m# Converting the input string to a list\u001b[0m\u001b[1;33m\u001b[0m\u001b[1;33m\u001b[0m\u001b[0m\n\u001b[1;32m----> 3\u001b[1;33m     \u001b[0mmyList\u001b[0m\u001b[1;33m=\u001b[0m \u001b[0mstring\u001b[0m\u001b[1;33m.\u001b[0m\u001b[0msplit\u001b[0m\u001b[1;33m(\u001b[0m\u001b[1;33m)\u001b[0m\u001b[1;33m\u001b[0m\u001b[1;33m\u001b[0m\u001b[0m\n\u001b[0m\u001b[0;32m      4\u001b[0m     \u001b[1;31m# Initialise an empty dictionary\u001b[0m\u001b[1;33m\u001b[0m\u001b[1;33m\u001b[0m\u001b[0m\n\u001b[0;32m      5\u001b[0m     \u001b[0mdict\u001b[0m\u001b[1;33m=\u001b[0m \u001b[1;33m{\u001b[0m\u001b[1;33m}\u001b[0m\u001b[1;33m\u001b[0m\u001b[1;33m\u001b[0m\u001b[0m\n",
      "\u001b[1;31mAttributeError\u001b[0m: 'int' object has no attribute 'split'"
     ]
    }
   ],
   "source": [
    "def string_words(string, k):\n",
    "    # Converting the input string to a list\n",
    "    myList= string.split()\n",
    "    # Initialise an empty dictionary\n",
    "    dict= {}\n",
    "    # Iterate through the list in order to find frequency\n",
    "    for i in myList:\n",
    "        dict[i]=dict[i]+1\n",
    "    else:\n",
    "        dict[i]=1\n",
    "# Loop for printing the keys with frequency as k\n",
    "    for t in dict:\n",
    "        if dict[t]==k:\n",
    "            print(t)\n",
    "string_words(2,2)"
   ]
  },
  {
   "cell_type": "markdown",
   "id": "eba03919",
   "metadata": {},
   "source": [
    "### set"
   ]
  },
  {
   "cell_type": "markdown",
   "id": "f36797e1",
   "metadata": {},
   "source": [
    "#### creating a set"
   ]
  },
  {
   "cell_type": "code",
   "execution_count": 126,
   "id": "4b1041ee",
   "metadata": {},
   "outputs": [
    {
     "name": "stdout",
     "output_type": "stream",
     "text": [
      "{'tue', 'sat', 'mon', 'wed', 'thu', 'fri', 'sun'}\n",
      "{'jan', 'feb', 'mar'}\n",
      "{1, 2, 3, 4, 5}\n"
     ]
    }
   ],
   "source": [
    "days=set(['mon','tue','wed','thu','fri','sat','sun'])\n",
    "months={'jan','feb','mar'}\n",
    "dates={1,2,3,4,5}\n",
    "print(days)\n",
    "print(months)\n",
    "print(dates)"
   ]
  },
  {
   "cell_type": "code",
   "execution_count": 132,
   "id": "305c0c0d",
   "metadata": {},
   "outputs": [
    {
     "name": "stdout",
     "output_type": "stream",
     "text": [
      "{1: 5, 2: 'none', 3: 6}\n"
     ]
    }
   ],
   "source": [
    "dic={1:5,2:'none',3:6}\n",
    "print(dic)"
   ]
  },
  {
   "cell_type": "markdown",
   "id": "65f3e81e",
   "metadata": {},
   "source": [
    "### Access values in a set"
   ]
  },
  {
   "cell_type": "code",
   "execution_count": 133,
   "id": "0c5a9565",
   "metadata": {},
   "outputs": [
    {
     "name": "stdout",
     "output_type": "stream",
     "text": [
      "kavya\n",
      "4\n",
      "6\n",
      "7\n",
      "8\n"
     ]
    }
   ],
   "source": [
    "set={4,6,8,'kavya',7}\n",
    "#We cannot access individual values in a set as there is no specific order of elements in a set.\n",
    "#We can only access all the elements together as\n",
    "for t in set:\n",
    "    print(t)"
   ]
  },
  {
   "cell_type": "markdown",
   "id": "2697a99a",
   "metadata": {},
   "source": [
    "### Adding items to a set"
   ]
  },
  {
   "cell_type": "code",
   "execution_count": 134,
   "id": "4ea09ddc",
   "metadata": {},
   "outputs": [
    {
     "name": "stdout",
     "output_type": "stream",
     "text": [
      "{'kavya', 4, 6, 7, 8}\n",
      "{'kavya', 4, 6, 7, 8, 'hi'}\n"
     ]
    }
   ],
   "source": [
    "set={4,6,8,'kavya',7}\n",
    "print(set)\n",
    "set.add('hi')\n",
    "print(set)"
   ]
  },
  {
   "cell_type": "code",
   "execution_count": 135,
   "id": "f40d7f68",
   "metadata": {},
   "outputs": [
    {
     "name": "stdout",
     "output_type": "stream",
     "text": [
      "{'kavya', 4, 6, 7}\n"
     ]
    }
   ],
   "source": [
    "set={4,6,8,'kavya',7}\n",
    "set.discard(8)\n",
    "print(set)"
   ]
  },
  {
   "cell_type": "code",
   "execution_count": 139,
   "id": "e2df3478",
   "metadata": {},
   "outputs": [
    {
     "ename": "TypeError",
     "evalue": "'set' object is not callable",
     "output_type": "error",
     "traceback": [
      "\u001b[1;31m---------------------------------------------------------------------------\u001b[0m",
      "\u001b[1;31mTypeError\u001b[0m                                 Traceback (most recent call last)",
      "\u001b[1;32m~\\AppData\\Local\\Temp/ipykernel_2548/1187246309.py\u001b[0m in \u001b[0;36m<module>\u001b[1;34m\u001b[0m\n\u001b[1;32m----> 1\u001b[1;33m \u001b[0ma\u001b[0m\u001b[1;33m=\u001b[0m\u001b[0mset\u001b[0m\u001b[1;33m(\u001b[0m\u001b[1;33m[\u001b[0m\u001b[1;34m'ka'\u001b[0m\u001b[1;33m,\u001b[0m\u001b[1;34m'vy'\u001b[0m\u001b[1;33m]\u001b[0m\u001b[1;33m)\u001b[0m\u001b[1;33m\u001b[0m\u001b[1;33m\u001b[0m\u001b[0m\n\u001b[0m\u001b[0;32m      2\u001b[0m \u001b[0mprint\u001b[0m\u001b[1;33m(\u001b[0m\u001b[0ma\u001b[0m\u001b[1;33m)\u001b[0m\u001b[1;33m\u001b[0m\u001b[1;33m\u001b[0m\u001b[0m\n",
      "\u001b[1;31mTypeError\u001b[0m: 'set' object is not callable"
     ]
    }
   ],
   "source": [
    "a=set(['ka','vy'])\n",
    "print(a)\n"
   ]
  },
  {
   "cell_type": "markdown",
   "id": "677c056c",
   "metadata": {},
   "source": [
    "### union of sets"
   ]
  },
  {
   "cell_type": "code",
   "execution_count": 140,
   "id": "986cf45a",
   "metadata": {},
   "outputs": [
    {
     "name": "stdout",
     "output_type": "stream",
     "text": [
      "{'kavya', 2, 4, 6, 7, 8, 'august', 'hi'}\n"
     ]
    }
   ],
   "source": [
    "set1={4,6,8,'kavya',7}\n",
    "set2={2,6,8,'hi','august'}\n",
    "set3=set1|set2\n",
    "print(set3)"
   ]
  },
  {
   "cell_type": "markdown",
   "id": "d778dca8",
   "metadata": {},
   "source": [
    "### intersection of sets"
   ]
  },
  {
   "cell_type": "code",
   "execution_count": 142,
   "id": "39e891e2",
   "metadata": {},
   "outputs": [
    {
     "name": "stdout",
     "output_type": "stream",
     "text": [
      "{8, 6}\n"
     ]
    }
   ],
   "source": [
    "set1={4,6,8,'kavya',7}\n",
    "set2={2,6,8,'hi','august'}\n",
    "set3=set1&set2\n",
    "print(set3)"
   ]
  },
  {
   "cell_type": "markdown",
   "id": "8e15ae03",
   "metadata": {},
   "source": [
    "### difference of sets"
   ]
  },
  {
   "cell_type": "code",
   "execution_count": 143,
   "id": "17632614",
   "metadata": {},
   "outputs": [
    {
     "name": "stdout",
     "output_type": "stream",
     "text": [
      "{'kavya', 4, 7}\n"
     ]
    }
   ],
   "source": [
    "set1={4,6,8,'kavya',7}\n",
    "set2={2,6,8,'hi','august'}\n",
    "set3=set1-set2\n",
    "print(set3)"
   ]
  },
  {
   "cell_type": "code",
   "execution_count": 144,
   "id": "1f9e53c3",
   "metadata": {},
   "outputs": [
    {
     "name": "stdout",
     "output_type": "stream",
     "text": [
      "{2, 'august', 'hi'}\n"
     ]
    }
   ],
   "source": [
    "set1={4,6,8,'kavya',7}\n",
    "set2={2,6,8,'hi','august'}\n",
    "set3=set2-set1\n",
    "print(set3)"
   ]
  },
  {
   "cell_type": "code",
   "execution_count": 146,
   "id": "e338b0cb",
   "metadata": {},
   "outputs": [
    {
     "name": "stdout",
     "output_type": "stream",
     "text": [
      "set()\n"
     ]
    }
   ],
   "source": [
    "set1={4,6,8,'kavya',7}\n",
    "set2={2,6,8,'hi','august'}\n",
    "set3=set2-set2\n",
    "print(set3)"
   ]
  },
  {
   "cell_type": "markdown",
   "id": "93e89845",
   "metadata": {},
   "source": [
    "### compare sets"
   ]
  },
  {
   "cell_type": "code",
   "execution_count": 149,
   "id": "7c7fe1a4",
   "metadata": {},
   "outputs": [
    {
     "name": "stdout",
     "output_type": "stream",
     "text": [
      "True\n",
      "True\n"
     ]
    }
   ],
   "source": [
    "DaysA = {\"Mon\",\"Tue\",\"Wed\"}\n",
    "DaysB = {\"Mon\",\"Tue\",\"Wed\",\"Thu\",\"Fri\",\"Sat\",\"Sun\",'kavya'}\n",
    "SubsetRes = DaysA <= DaysB #Check Subset\n",
    "SupersetRes = DaysB >= DaysA #Check Superset\n",
    "print(SubsetRes)\n",
    "print(SupersetRes)"
   ]
  }
 ],
 "metadata": {
  "kernelspec": {
   "display_name": "Python 3 (ipykernel)",
   "language": "python",
   "name": "python3"
  },
  "language_info": {
   "codemirror_mode": {
    "name": "ipython",
    "version": 3
   },
   "file_extension": ".py",
   "mimetype": "text/x-python",
   "name": "python",
   "nbconvert_exporter": "python",
   "pygments_lexer": "ipython3",
   "version": "3.9.7"
  }
 },
 "nbformat": 4,
 "nbformat_minor": 5
}
