{
 "cells": [
  {
   "cell_type": "code",
   "execution_count": 1,
   "id": "7613f503",
   "metadata": {},
   "outputs": [
    {
     "name": "stdout",
     "output_type": "stream",
     "text": [
      "enter value of profit?56\n",
      "enter value of rate?46\n",
      "enter value of time?45\n",
      "1159.2\n"
     ]
    }
   ],
   "source": [
    "profit=int(input(\"enter value of profit?\"))\n",
    "rate=int(input(\"enter value of rate?\"))\n",
    "time=int(input(\"enter value of time?\"))\n",
    "simpleinterest=(profit*rate*time)/100\n",
    "print(simpleinterest)"
   ]
  },
  {
   "cell_type": "code",
   "execution_count": 2,
   "id": "e839413e",
   "metadata": {},
   "outputs": [
    {
     "name": "stdout",
     "output_type": "stream",
     "text": [
      "2\n",
      "3\n"
     ]
    },
    {
     "data": {
      "text/plain": [
       "'23'"
      ]
     },
     "execution_count": 2,
     "metadata": {},
     "output_type": "execute_result"
    }
   ],
   "source": [
    "a=input()\n",
    "b=input()\n",
    "a+b"
   ]
  },
  {
   "cell_type": "code",
   "execution_count": 3,
   "id": "6cc9f8df",
   "metadata": {},
   "outputs": [
    {
     "name": "stdout",
     "output_type": "stream",
     "text": [
      "1941259577936\n"
     ]
    },
    {
     "data": {
      "text/plain": [
       "1941259577936"
      ]
     },
     "execution_count": 3,
     "metadata": {},
     "output_type": "execute_result"
    }
   ],
   "source": [
    "a=10\n",
    "print(id(a))\n",
    "b=10\n",
    "id(b)"
   ]
  },
  {
   "cell_type": "code",
   "execution_count": 4,
   "id": "7f982169",
   "metadata": {},
   "outputs": [
    {
     "name": "stdout",
     "output_type": "stream",
     "text": [
      "77\n"
     ]
    },
    {
     "data": {
      "text/plain": [
       "25.0"
      ]
     },
     "execution_count": 4,
     "metadata": {},
     "output_type": "execute_result"
    }
   ],
   "source": [
    "f=int(input())\n",
    "c=(f-32)*5/9\n",
    "c"
   ]
  },
  {
   "cell_type": "code",
   "execution_count": 5,
   "id": "361df93d",
   "metadata": {},
   "outputs": [
    {
     "name": "stdout",
     "output_type": "stream",
     "text": [
      "x>y is True\n"
     ]
    }
   ],
   "source": [
    "x=10\n",
    "y=5\n",
    "print(\"x>y is\",x>y)"
   ]
  },
  {
   "cell_type": "code",
   "execution_count": 6,
   "id": "4fc56624",
   "metadata": {},
   "outputs": [
    {
     "name": "stdout",
     "output_type": "stream",
     "text": [
      "False\n",
      "x or y is True\n",
      "not x is False\n"
     ]
    }
   ],
   "source": [
    "x=True\n",
    "y=False\n",
    "print(x and y)\n",
    "print(\"x or y is\",x or y)\n",
    "print(\"not x is\", not x)"
   ]
  },
  {
   "cell_type": "markdown",
   "id": "c34c231e",
   "metadata": {},
   "source": [
    "### using logical operators"
   ]
  },
  {
   "cell_type": "code",
   "execution_count": 8,
   "id": "01642a8f",
   "metadata": {},
   "outputs": [
    {
     "name": "stdout",
     "output_type": "stream",
     "text": [
      "8\n",
      "9\n",
      " a and b are not greater\n"
     ]
    }
   ],
   "source": [
    "a=int(input())\n",
    "b=int(input())\n",
    "if a>10 and b>10:\n",
    "    print(\"a and b are greater\")\n",
    "else:\n",
    "    print(\" a and b are not greater\")"
   ]
  },
  {
   "cell_type": "markdown",
   "id": "18a969a9",
   "metadata": {},
   "source": [
    "### which is greater number among three numbers\n"
   ]
  },
  {
   "cell_type": "code",
   "execution_count": 9,
   "id": "721ce413",
   "metadata": {},
   "outputs": [
    {
     "name": "stdout",
     "output_type": "stream",
     "text": [
      "9\n",
      "0\n",
      "8\n",
      "a is greater\n"
     ]
    }
   ],
   "source": [
    "a=int(input())\n",
    "b=int(input())\n",
    "c=int(input())\n",
    "if a>=b and a>=c:\n",
    "    print(\"a is greater\")\n",
    "elif b>=c and b>=a:\n",
    "    print(\"b is greater\")\n",
    "else:\n",
    "    print(\"c is greater\")"
   ]
  },
  {
   "cell_type": "markdown",
   "id": "8b5d2857",
   "metadata": {},
   "source": [
    "### nested if"
   ]
  },
  {
   "cell_type": "code",
   "execution_count": 10,
   "id": "34ea437a",
   "metadata": {},
   "outputs": [
    {
     "name": "stdout",
     "output_type": "stream",
     "text": [
      "8\n",
      "n is even\n"
     ]
    }
   ],
   "source": [
    "n=int(input())\n",
    "if n%2==0:\n",
    "    print(\"n is even\")\n",
    "    if n==0:\n",
    "        print(\"n is zero\")\n",
    "else:\n",
    "    print(\"n is odd\")\n"
   ]
  },
  {
   "cell_type": "code",
   "execution_count": 12,
   "id": "25e4abbf",
   "metadata": {},
   "outputs": [
    {
     "name": "stdout",
     "output_type": "stream",
     "text": [
      "8\n",
      "9\n",
      "n is even\n",
      "j\n"
     ]
    }
   ],
   "source": [
    "n=int(input())\n",
    "m=int(input())\n",
    "if n%2==0:\n",
    "    print(\"n is even\")\n",
    "    if m%2==0:\n",
    "        print(\"i\")\n",
    "    else:\n",
    "        print(\"j\")\n",
    "else:\n",
    "    print(\"k\")"
   ]
  },
  {
   "cell_type": "markdown",
   "id": "939af3f6",
   "metadata": {},
   "source": [
    "### problem statement:given an integer n,find sum of first n natural numbers"
   ]
  },
  {
   "cell_type": "code",
   "execution_count": 14,
   "id": "9b795660",
   "metadata": {},
   "outputs": [
    {
     "name": "stdout",
     "output_type": "stream",
     "text": [
      "9\n",
      "45\n"
     ]
    }
   ],
   "source": [
    "n=int(input())\n",
    "sum=0\n",
    "i=1\n",
    "while i<=n:\n",
    "    sum=sum+i\n",
    "    i=i+1\n",
    "print(sum)"
   ]
  },
  {
   "cell_type": "markdown",
   "id": "7fb32d80",
   "metadata": {},
   "source": [
    "### printing a number n times"
   ]
  },
  {
   "cell_type": "code",
   "execution_count": null,
   "id": "e813c018",
   "metadata": {},
   "outputs": [],
   "source": [
    "n=int(input())\n",
    "count=1\n",
    "while count<=n:\n",
    "    print(\"2\")\n",
    "    count=count+1\n",
    "print()"
   ]
  },
  {
   "cell_type": "markdown",
   "id": "26797b54",
   "metadata": {},
   "source": [
    "### printing first n natural numbers"
   ]
  },
  {
   "cell_type": "code",
   "execution_count": 17,
   "id": "f296659d",
   "metadata": {},
   "outputs": [
    {
     "name": "stdout",
     "output_type": "stream",
     "text": [
      "4\n",
      "1\n",
      "2\n",
      "3\n",
      "4\n"
     ]
    }
   ],
   "source": [
    "n=int(input())\n",
    "count=1\n",
    "while count<=n:\n",
    "    print(count)\n",
    "    count=count+1"
   ]
  },
  {
   "cell_type": "markdown",
   "id": "421b1e5f",
   "metadata": {},
   "source": [
    "###  PRIMALITY CHECKING"
   ]
  },
  {
   "cell_type": "code",
   "execution_count": 1,
   "id": "94465657",
   "metadata": {},
   "outputs": [
    {
     "name": "stdout",
     "output_type": "stream",
     "text": [
      "6\n",
      "n is not prime\n"
     ]
    }
   ],
   "source": [
    "n=int(input())\n",
    "i=2\n",
    "flag = False\n",
    "while i<n:\n",
    "    if n%i==0:\n",
    "        flag =True\n",
    "    i=i+1\n",
    "if flag:\n",
    "    print(\"n is not prime\")\n",
    "else:\n",
    "    print(\"n is prime\")"
   ]
  }
 ],
 "metadata": {
  "kernelspec": {
   "display_name": "Python 3 (ipykernel)",
   "language": "python",
   "name": "python3"
  },
  "language_info": {
   "codemirror_mode": {
    "name": "ipython",
    "version": 3
   },
   "file_extension": ".py",
   "mimetype": "text/x-python",
   "name": "python",
   "nbconvert_exporter": "python",
   "pygments_lexer": "ipython3",
   "version": "3.9.7"
  }
 },
 "nbformat": 4,
 "nbformat_minor": 5
}
